{
 "cells": [
  {
   "cell_type": "code",
   "execution_count": 56,
   "metadata": {},
   "outputs": [],
   "source": [
    "import pandas as pd\n",
    "import matplotlib.pyplot as plt\n",
    "import seaborn as sns\n",
    "import plotly.express as px\n",
    "\n",
    "import warnings as w\n",
    "w.filterwarnings(\"ignore\")"
   ]
  },
  {
   "cell_type": "code",
   "execution_count": 57,
   "metadata": {},
   "outputs": [],
   "source": [
    "data = pd.read_csv(\"Food and Calories - Sheet1.csv\")"
   ]
  },
  {
   "cell_type": "code",
   "execution_count": 58,
   "metadata": {},
   "outputs": [
    {
     "data": {
      "text/html": [
       "<div>\n",
       "<style scoped>\n",
       "    .dataframe tbody tr th:only-of-type {\n",
       "        vertical-align: middle;\n",
       "    }\n",
       "\n",
       "    .dataframe tbody tr th {\n",
       "        vertical-align: top;\n",
       "    }\n",
       "\n",
       "    .dataframe thead th {\n",
       "        text-align: right;\n",
       "    }\n",
       "</style>\n",
       "<table border=\"1\" class=\"dataframe\">\n",
       "  <thead>\n",
       "    <tr style=\"text-align: right;\">\n",
       "      <th></th>\n",
       "      <th>Food</th>\n",
       "      <th>Serving</th>\n",
       "      <th>Calories</th>\n",
       "    </tr>\n",
       "  </thead>\n",
       "  <tbody>\n",
       "    <tr>\n",
       "      <th>311</th>\n",
       "      <td>Pumpkin Soup</td>\n",
       "      <td>1 cup (245 g)</td>\n",
       "      <td>71 cal</td>\n",
       "    </tr>\n",
       "    <tr>\n",
       "      <th>153</th>\n",
       "      <td>Ham and Cheese Sandwich</td>\n",
       "      <td>1 sandwich (146 g)</td>\n",
       "      <td>352 cal</td>\n",
       "    </tr>\n",
       "    <tr>\n",
       "      <th>425</th>\n",
       "      <td>Mozzarella Pizza</td>\n",
       "      <td>1 slice (62 g)</td>\n",
       "      <td>154 cal</td>\n",
       "    </tr>\n",
       "    <tr>\n",
       "      <th>158</th>\n",
       "      <td>Mac and Cheese</td>\n",
       "      <td>1 serving (189 g)</td>\n",
       "      <td>699 cal</td>\n",
       "    </tr>\n",
       "    <tr>\n",
       "      <th>175</th>\n",
       "      <td>Pulled Pork Sandwich</td>\n",
       "      <td>1 sandwich (261 g)</td>\n",
       "      <td>551 cal</td>\n",
       "    </tr>\n",
       "    <tr>\n",
       "      <th>254</th>\n",
       "      <td>Olive Oil</td>\n",
       "      <td>1 tbsp (15 ml)</td>\n",
       "      <td>120 cal</td>\n",
       "    </tr>\n",
       "    <tr>\n",
       "      <th>407</th>\n",
       "      <td>Ziti</td>\n",
       "      <td>2 oz. (56 g)</td>\n",
       "      <td>197 cal</td>\n",
       "    </tr>\n",
       "    <tr>\n",
       "      <th>479</th>\n",
       "      <td>Pink Grapefruit</td>\n",
       "      <td>1/2 grapefruit (123 g)</td>\n",
       "      <td>52 cal</td>\n",
       "    </tr>\n",
       "    <tr>\n",
       "      <th>480</th>\n",
       "      <td>Plantain</td>\n",
       "      <td>1 plantain (179 g)</td>\n",
       "      <td>218 cal</td>\n",
       "    </tr>\n",
       "    <tr>\n",
       "      <th>236</th>\n",
       "      <td>Whole Grain Wheat</td>\n",
       "      <td>1 cup (120 g)</td>\n",
       "      <td>407 cal</td>\n",
       "    </tr>\n",
       "  </tbody>\n",
       "</table>\n",
       "</div>"
      ],
      "text/plain": [
       "                        Food                 Serving Calories\n",
       "311             Pumpkin Soup           1 cup (245 g)   71 cal\n",
       "153  Ham and Cheese Sandwich      1 sandwich (146 g)  352 cal\n",
       "425         Mozzarella Pizza          1 slice (62 g)  154 cal\n",
       "158           Mac and Cheese       1 serving (189 g)  699 cal\n",
       "175     Pulled Pork Sandwich      1 sandwich (261 g)  551 cal\n",
       "254                Olive Oil          1 tbsp (15 ml)  120 cal\n",
       "407                     Ziti            2 oz. (56 g)  197 cal\n",
       "479          Pink Grapefruit  1/2 grapefruit (123 g)   52 cal\n",
       "480                 Plantain      1 plantain (179 g)  218 cal\n",
       "236        Whole Grain Wheat           1 cup (120 g)  407 cal"
      ]
     },
     "execution_count": 58,
     "metadata": {},
     "output_type": "execute_result"
    }
   ],
   "source": [
    "data.sample(10)"
   ]
  },
  {
   "cell_type": "code",
   "execution_count": 59,
   "metadata": {},
   "outputs": [
    {
     "name": "stdout",
     "output_type": "stream",
     "text": [
      "<class 'pandas.core.frame.DataFrame'>\n",
      "RangeIndex: 562 entries, 0 to 561\n",
      "Data columns (total 3 columns):\n",
      " #   Column    Non-Null Count  Dtype \n",
      "---  ------    --------------  ----- \n",
      " 0   Food      562 non-null    object\n",
      " 1   Serving   562 non-null    object\n",
      " 2   Calories  562 non-null    object\n",
      "dtypes: object(3)\n",
      "memory usage: 13.3+ KB\n"
     ]
    }
   ],
   "source": [
    "data.info()"
   ]
  },
  {
   "cell_type": "code",
   "execution_count": 60,
   "metadata": {},
   "outputs": [],
   "source": [
    "data['Calories'] = data['Calories'].apply(lambda x:x.split()[0])\n",
    "data['Serving'] = data['Serving'].apply(lambda x:x.split('(')[0])"
   ]
  },
  {
   "cell_type": "code",
   "execution_count": 61,
   "metadata": {},
   "outputs": [
    {
     "data": {
      "text/html": [
       "<div>\n",
       "<style scoped>\n",
       "    .dataframe tbody tr th:only-of-type {\n",
       "        vertical-align: middle;\n",
       "    }\n",
       "\n",
       "    .dataframe tbody tr th {\n",
       "        vertical-align: top;\n",
       "    }\n",
       "\n",
       "    .dataframe thead th {\n",
       "        text-align: right;\n",
       "    }\n",
       "</style>\n",
       "<table border=\"1\" class=\"dataframe\">\n",
       "  <thead>\n",
       "    <tr style=\"text-align: right;\">\n",
       "      <th></th>\n",
       "      <th>Food</th>\n",
       "      <th>Serving</th>\n",
       "      <th>Calories</th>\n",
       "    </tr>\n",
       "  </thead>\n",
       "  <tbody>\n",
       "    <tr>\n",
       "      <th>173</th>\n",
       "      <td>Pork Chop</td>\n",
       "      <td>1 chop</td>\n",
       "      <td>295</td>\n",
       "    </tr>\n",
       "    <tr>\n",
       "      <th>455</th>\n",
       "      <td>Breadfruit</td>\n",
       "      <td>1/4 breadfruit</td>\n",
       "      <td>99</td>\n",
       "    </tr>\n",
       "    <tr>\n",
       "      <th>216</th>\n",
       "      <td>Polenta</td>\n",
       "      <td>1 cup</td>\n",
       "      <td>549</td>\n",
       "    </tr>\n",
       "    <tr>\n",
       "      <th>78</th>\n",
       "      <td>Dates</td>\n",
       "      <td>1 date</td>\n",
       "      <td>20</td>\n",
       "    </tr>\n",
       "  </tbody>\n",
       "</table>\n",
       "</div>"
      ],
      "text/plain": [
       "           Food          Serving Calories\n",
       "173   Pork Chop          1 chop       295\n",
       "455  Breadfruit  1/4 breadfruit        99\n",
       "216     Polenta           1 cup       549\n",
       "78        Dates          1 date        20"
      ]
     },
     "execution_count": 61,
     "metadata": {},
     "output_type": "execute_result"
    }
   ],
   "source": [
    "data.sample(4)"
   ]
  },
  {
   "cell_type": "code",
   "execution_count": 62,
   "metadata": {},
   "outputs": [
    {
     "data": {
      "text/plain": [
       "<AxesSubplot:>"
      ]
     },
     "execution_count": 62,
     "metadata": {},
     "output_type": "execute_result"
    },
    {
     "data": {
      "image/png": "[encoded data removed]",
      "text/plain": [
       "<Figure size 432x288 with 2 Axes>"
      ]
     },
     "metadata": {
      "needs_background": "light"
     },
     "output_type": "display_data"
    }
   ],
   "source": [
    "sns.heatmap(data.isnull())"
   ]
  },
  {
   "cell_type": "code",
   "execution_count": 63,
   "metadata": {},
   "outputs": [
    {
     "data": {
      "text/plain": [
       "Food        541\n",
       "Serving     162\n",
       "Calories    307\n",
       "dtype: int64"
      ]
     },
     "execution_count": 63,
     "metadata": {},
     "output_type": "execute_result"
    }
   ],
   "source": [
    "data.nunique()"
   ]
  },
  {
   "cell_type": "code",
   "execution_count": 64,
   "metadata": {},
   "outputs": [
    {
     "data": {
      "text/plain": [
       "(562, 3)"
      ]
     },
     "execution_count": 64,
     "metadata": {},
     "output_type": "execute_result"
    }
   ],
   "source": [
    "data.shape"
   ]
  },
  {
   "cell_type": "code",
   "execution_count": 65,
   "metadata": {},
   "outputs": [
    {
     "data": {
      "text/html": [
       "<div>\n",
       "<style scoped>\n",
       "    .dataframe tbody tr th:only-of-type {\n",
       "        vertical-align: middle;\n",
       "    }\n",
       "\n",
       "    .dataframe tbody tr th {\n",
       "        vertical-align: top;\n",
       "    }\n",
       "\n",
       "    .dataframe thead th {\n",
       "        text-align: right;\n",
       "    }\n",
       "</style>\n",
       "<table border=\"1\" class=\"dataframe\">\n",
       "  <thead>\n",
       "    <tr style=\"text-align: right;\">\n",
       "      <th></th>\n",
       "      <th>Food</th>\n",
       "      <th>Serving</th>\n",
       "      <th>Calories</th>\n",
       "    </tr>\n",
       "  </thead>\n",
       "  <tbody>\n",
       "    <tr>\n",
       "      <th>95</th>\n",
       "      <td>Olives</td>\n",
       "      <td>1 olive</td>\n",
       "      <td>2</td>\n",
       "    </tr>\n",
       "    <tr>\n",
       "      <th>309</th>\n",
       "      <td>Pea Soup</td>\n",
       "      <td>1 cup</td>\n",
       "      <td>190</td>\n",
       "    </tr>\n",
       "    <tr>\n",
       "      <th>453</th>\n",
       "      <td>Avocado</td>\n",
       "      <td>1 avocado</td>\n",
       "      <td>320</td>\n",
       "    </tr>\n",
       "    <tr>\n",
       "      <th>454</th>\n",
       "      <td>Banana</td>\n",
       "      <td>1 banana</td>\n",
       "      <td>111</td>\n",
       "    </tr>\n",
       "    <tr>\n",
       "      <th>464</th>\n",
       "      <td>Guava</td>\n",
       "      <td>1 guava</td>\n",
       "      <td>37</td>\n",
       "    </tr>\n",
       "    <tr>\n",
       "      <th>466</th>\n",
       "      <td>Jackfruit</td>\n",
       "      <td>1 cup</td>\n",
       "      <td>143</td>\n",
       "    </tr>\n",
       "    <tr>\n",
       "      <th>471</th>\n",
       "      <td>Mango</td>\n",
       "      <td>1 mango</td>\n",
       "      <td>202</td>\n",
       "    </tr>\n",
       "    <tr>\n",
       "      <th>478</th>\n",
       "      <td>Pineapple</td>\n",
       "      <td>1 pineapple</td>\n",
       "      <td>453</td>\n",
       "    </tr>\n",
       "    <tr>\n",
       "      <th>481</th>\n",
       "      <td>Pomegranate</td>\n",
       "      <td>1 pomegranate</td>\n",
       "      <td>234</td>\n",
       "    </tr>\n",
       "    <tr>\n",
       "      <th>484</th>\n",
       "      <td>Rambutan</td>\n",
       "      <td>1 rambutan</td>\n",
       "      <td>7</td>\n",
       "    </tr>\n",
       "    <tr>\n",
       "      <th>488</th>\n",
       "      <td>Tamarind</td>\n",
       "      <td>1 tamarind</td>\n",
       "      <td>5</td>\n",
       "    </tr>\n",
       "    <tr>\n",
       "      <th>489</th>\n",
       "      <td>Watermelon</td>\n",
       "      <td>1 wedge</td>\n",
       "      <td>86</td>\n",
       "    </tr>\n",
       "    <tr>\n",
       "      <th>522</th>\n",
       "      <td>Fish and Chips</td>\n",
       "      <td>1 serving</td>\n",
       "      <td>585</td>\n",
       "    </tr>\n",
       "  </tbody>\n",
       "</table>\n",
       "</div>"
      ],
      "text/plain": [
       "               Food         Serving Calories\n",
       "95           Olives        1 olive         2\n",
       "309        Pea Soup          1 cup       190\n",
       "453         Avocado      1 avocado       320\n",
       "454          Banana       1 banana       111\n",
       "464           Guava        1 guava        37\n",
       "466       Jackfruit          1 cup       143\n",
       "471           Mango        1 mango       202\n",
       "478       Pineapple    1 pineapple       453\n",
       "481     Pomegranate  1 pomegranate       234\n",
       "484        Rambutan     1 rambutan         7\n",
       "488        Tamarind     1 tamarind         5\n",
       "489      Watermelon        1 wedge        86\n",
       "522  Fish and Chips      1 serving       585"
      ]
     },
     "execution_count": 65,
     "metadata": {},
     "output_type": "execute_result"
    }
   ],
   "source": [
    "data[data.duplicated()]"
   ]
  },
  {
   "cell_type": "code",
   "execution_count": 66,
   "metadata": {},
   "outputs": [
    {
     "data": {
      "text/html": [
       "<div>\n",
       "<style scoped>\n",
       "    .dataframe tbody tr th:only-of-type {\n",
       "        vertical-align: middle;\n",
       "    }\n",
       "\n",
       "    .dataframe tbody tr th {\n",
       "        vertical-align: top;\n",
       "    }\n",
       "\n",
       "    .dataframe thead th {\n",
       "        text-align: right;\n",
       "    }\n",
       "</style>\n",
       "<table border=\"1\" class=\"dataframe\">\n",
       "  <thead>\n",
       "    <tr style=\"text-align: right;\">\n",
       "      <th></th>\n",
       "      <th>Food</th>\n",
       "      <th>Serving</th>\n",
       "      <th>Calories</th>\n",
       "    </tr>\n",
       "  </thead>\n",
       "  <tbody>\n",
       "    <tr>\n",
       "      <th>count</th>\n",
       "      <td>562</td>\n",
       "      <td>562</td>\n",
       "      <td>562</td>\n",
       "    </tr>\n",
       "    <tr>\n",
       "      <th>unique</th>\n",
       "      <td>541</td>\n",
       "      <td>162</td>\n",
       "      <td>307</td>\n",
       "    </tr>\n",
       "    <tr>\n",
       "      <th>top</th>\n",
       "      <td>Tamarind</td>\n",
       "      <td>1 cup</td>\n",
       "      <td>124</td>\n",
       "    </tr>\n",
       "    <tr>\n",
       "      <th>freq</th>\n",
       "      <td>2</td>\n",
       "      <td>113</td>\n",
       "      <td>15</td>\n",
       "    </tr>\n",
       "  </tbody>\n",
       "</table>\n",
       "</div>"
      ],
      "text/plain": [
       "            Food Serving Calories\n",
       "count        562     562      562\n",
       "unique       541     162      307\n",
       "top     Tamarind  1 cup       124\n",
       "freq           2     113       15"
      ]
     },
     "execution_count": 66,
     "metadata": {},
     "output_type": "execute_result"
    }
   ],
   "source": [
    "data.describe()"
   ]
  },
  {
   "cell_type": "code",
   "execution_count": 67,
   "metadata": {
    "scrolled": true
   },
   "outputs": [
    {
     "name": "stdout",
     "output_type": "stream",
     "text": [
      "<class 'pandas.core.frame.DataFrame'>\n",
      "RangeIndex: 562 entries, 0 to 561\n",
      "Data columns (total 3 columns):\n",
      " #   Column    Non-Null Count  Dtype \n",
      "---  ------    --------------  ----- \n",
      " 0   Food      562 non-null    object\n",
      " 1   Serving   562 non-null    object\n",
      " 2   Calories  562 non-null    object\n",
      "dtypes: object(3)\n",
      "memory usage: 13.3+ KB\n"
     ]
    }
   ],
   "source": [
    "data.info()"
   ]
  },
  {
   "cell_type": "code",
   "execution_count": 68,
   "metadata": {},
   "outputs": [],
   "source": [
    "data.Calories = data.Calories.astype('int')"
   ]
  },
  {
   "cell_type": "code",
   "execution_count": 69,
   "metadata": {},
   "outputs": [
    {
     "name": "stdout",
     "output_type": "stream",
     "text": [
      "<class 'pandas.core.frame.DataFrame'>\n",
      "RangeIndex: 562 entries, 0 to 561\n",
      "Data columns (total 3 columns):\n",
      " #   Column    Non-Null Count  Dtype \n",
      "---  ------    --------------  ----- \n",
      " 0   Food      562 non-null    object\n",
      " 1   Serving   562 non-null    object\n",
      " 2   Calories  562 non-null    int64 \n",
      "dtypes: int64(1), object(2)\n",
      "memory usage: 13.3+ KB\n"
     ]
    }
   ],
   "source": [
    "data.info()"
   ]
  },
  {
   "cell_type": "code",
   "execution_count": 70,
   "metadata": {},
   "outputs": [
    {
     "data": {
      "application/vnd.plotly.v1+json": {
       "config": {
        "plotlyServerURL": "https://plot.ly"
       },
       "data": [
        {
         "alignmentgroup": "True",
         "bingroup": "x",
         "hovertemplate": "Calories=%{x}<br>count=%{y}<extra></extra>",
         "legendgroup": "",
         "marker": {
          "color": "#636efa",
          "pattern": {
           "shape": ""
          }
         },
         "name": "",
         "offsetgroup": "",
         "orientation": "v",
         "showlegend": false,
         "type": "histogram",
         "x": [
          60,
          1,
          2,
          115,
          35,
          15,
          2,
          207,
          8,
          227,
          12,
          25,
          3,
          6,
          9,
          20,
          38,
          134,
          1,
          12,
          562,
          33,
          148,
          66,
          115,
          87,
          73,
          4,
          9,
          108,
          34,
          2,
          5,
          7,
          33,
          108,
          112,
          54,
          90,
          1,
          15,
          1,
          4,
          2,
          34,
          128,
          79,
          20,
          164,
          51,
          1,
          7,
          147,
          18,
          78,
          88,
          112,
          20,
          34,
          34,
          184,
          147,
          33,
          20,
          95,
          167,
          17,
          320,
          111,
          62,
          70,
          84,
          23,
          4,
          35,
          46,
          63,
          136,
          20,
          37,
          125,
          104,
          2,
          37,
          143,
          22,
          112,
          17,
          20,
          7,
          47,
          202,
          70,
          60,
          66,
          2,
          62,
          215,
          17,
          59,
          101,
          32,
          2,
          453,
          218,
          30,
          234,
          52,
          434,
          7,
          64,
          11,
          28,
          49,
          5,
          47,
          86,
          360,
          539,
          244,
          360,
          186,
          484,
          101,
          323,
          593,
          670,
          326,
          490,
          33,
          392,
          423,
          2209,
          250,
          673,
          195,
          266,
          418,
          632,
          13,
          438,
          349,
          523,
          304,
          62,
          37,
          287,
          323,
          290,
          585,
          662,
          75,
          392,
          352,
          435,
          250,
          774,
          284,
          699,
          699,
          174,
          290,
          721,
          260,
          420,
          375,
          200,
          260,
          190,
          200,
          401,
          300,
          272,
          295,
          136,
          551,
          380,
          134,
          641,
          23,
          240,
          107,
          361,
          101,
          159,
          130,
          101,
          397,
          374,
          350,
          350,
          213,
          198,
          83,
          716,
          556,
          31,
          757,
          583,
          567,
          110,
          442,
          488,
          650,
          35,
          119,
          897,
          832,
          104,
          20,
          627,
          484,
          521,
          80,
          231,
          553,
          549,
          16,
          46,
          626,
          41,
          422,
          99,
          139,
          95,
          588,
          283,
          601,
          818,
          467,
          160,
          125,
          432,
          10,
          601,
          386,
          407,
          300,
          123,
          124,
          125,
          120,
          124,
          124,
          120,
          120,
          123,
          124,
          124,
          124,
          117,
          128,
          124,
          124,
          120,
          123,
          123,
          120,
          124,
          123,
          124,
          120,
          128,
          124,
          124,
          123,
          124,
          124,
          120,
          124,
          130,
          62,
          335,
          7,
          83,
          70,
          39,
          264,
          206,
          69,
          95,
          95,
          10,
          39,
          56,
          62,
          39,
          77,
          58,
          85,
          140,
          92,
          117,
          97,
          107,
          73,
          56,
          56,
          161,
          1887,
          371,
          139,
          248,
          120,
          82,
          85,
          83,
          56,
          68,
          190,
          192,
          71,
          371,
          80,
          221,
          147,
          116,
          74,
          76,
          12,
          67,
          12,
          130,
          170,
          210,
          280,
          449,
          155,
          156,
          240,
          170,
          329,
          130,
          318,
          340,
          381,
          185,
          360,
          145,
          140,
          80,
          333,
          265,
          253,
          164,
          166,
          258,
          271,
          305,
          327,
          290,
          255,
          205,
          340,
          30,
          172,
          290,
          177,
          400,
          180,
          191,
          75,
          170,
          281,
          155,
          190,
          230,
          145,
          82,
          198,
          92,
          491,
          329,
          233,
          55,
          222,
          146,
          200,
          198,
          197,
          108,
          57,
          200,
          158,
          422,
          200,
          103,
          207,
          200,
          197,
          207,
          200,
          43,
          198,
          198,
          300,
          10,
          121,
          206,
          207,
          320,
          206,
          207,
          329,
          206,
          194,
          197,
          197,
          309,
          314,
          714,
          460,
          600,
          254,
          841,
          192,
          168,
          309,
          313,
          356,
          250,
          138,
          280,
          154,
          173,
          154,
          611,
          248,
          174,
          181,
          130,
          380,
          305,
          35,
          330,
          165,
          181,
          177,
          186,
          190,
          321,
          150,
          145,
          380,
          142,
          157,
          318,
          399,
          399,
          263,
          571,
          1,
          75,
          320,
          111,
          99,
          23,
          35,
          176,
          120,
          885,
          23,
          30,
          52,
          37,
          45,
          143,
          112,
          13,
          7,
          48,
          202,
          58,
          17,
          8,
          23,
          15,
          17,
          453,
          52,
          218,
          234,
          231,
          8,
          7,
          141,
          413,
          28,
          5,
          86,
          489,
          641,
          360,
          360,
          142,
          380,
          517,
          283,
          740,
          894,
          994,
          659,
          591,
          1471,
          672,
          346,
          759,
          410,
          116,
          326,
          48,
          59,
          451,
          410,
          367,
          94,
          585,
          398,
          414,
          200,
          57,
          400,
          585,
          431,
          222,
          268,
          352,
          279,
          312,
          410,
          172,
          561,
          300,
          48,
          437,
          391,
          359,
          403,
          290,
          451,
          95,
          451,
          481,
          575,
          25,
          511,
          44,
          480,
          312,
          171,
          24,
          29,
          389,
          229,
          963,
          839,
          420,
          290,
          700,
          672,
          517,
          517
         ],
         "xaxis": "x",
         "yaxis": "y"
        },
        {
         "alignmentgroup": "True",
         "hovertemplate": "Calories=%{x}<extra></extra>",
         "legendgroup": "",
         "marker": {
          "color": "#636efa"
         },
         "name": "",
         "notched": true,
         "offsetgroup": "",
         "showlegend": false,
         "type": "box",
         "x": [
          60,
          1,
          2,
          115,
          35,
          15,
          2,
          207,
          8,
          227,
          12,
          25,
          3,
          6,
          9,
          20,
          38,
          134,
          1,
          12,
          562,
          33,
          148,
          66,
          115,
          87,
          73,
          4,
          9,
          108,
          34,
          2,
          5,
          7,
          33,
          108,
          112,
          54,
          90,
          1,
          15,
          1,
          4,
          2,
          34,
          128,
          79,
          20,
          164,
          51,
          1,
          7,
          147,
          18,
          78,
          88,
          112,
          20,
          34,
          34,
          184,
          147,
          33,
          20,
          95,
          167,
          17,
          320,
          111,
          62,
          70,
          84,
          23,
          4,
          35,
          46,
          63,
          136,
          20,
          37,
          125,
          104,
          2,
          37,
          143,
          22,
          112,
          17,
          20,
          7,
          47,
          202,
          70,
          60,
          66,
          2,
          62,
          215,
          17,
          59,
          101,
          32,
          2,
          453,
          218,
          30,
          234,
          52,
          434,
          7,
          64,
          11,
          28,
          49,
          5,
          47,
          86,
          360,
          539,
          244,
          360,
          186,
          484,
          101,
          323,
          593,
          670,
          326,
          490,
          33,
          392,
          423,
          2209,
          250,
          673,
          195,
          266,
          418,
          632,
          13,
          438,
          349,
          523,
          304,
          62,
          37,
          287,
          323,
          290,
          585,
          662,
          75,
          392,
          352,
          435,
          250,
          774,
          284,
          699,
          699,
          174,
          290,
          721,
          260,
          420,
          375,
          200,
          260,
          190,
          200,
          401,
          300,
          272,
          295,
          136,
          551,
          380,
          134,
          641,
          23,
          240,
          107,
          361,
          101,
          159,
          130,
          101,
          397,
          374,
          350,
          350,
          213,
          198,
          83,
          716,
          556,
          31,
          757,
          583,
          567,
          110,
          442,
          488,
          650,
          35,
          119,
          897,
          832,
          104,
          20,
          627,
          484,
          521,
          80,
          231,
          553,
          549,
          16,
          46,
          626,
          41,
          422,
          99,
          139,
          95,
          588,
          283,
          601,
          818,
          467,
          160,
          125,
          432,
          10,
          601,
          386,
          407,
          300,
          123,
          124,
          125,
          120,
          124,
          124,
          120,
          120,
          123,
          124,
          124,
          124,
          117,
          128,
          124,
          124,
          120,
          123,
          123,
          120,
          124,
          123,
          124,
          120,
          128,
          124,
          124,
          123,
          124,
          124,
          120,
          124,
          130,
          62,
          335,
          7,
          83,
          70,
          39,
          264,
          206,
          69,
          95,
          95,
          10,
          39,
          56,
          62,
          39,
          77,
          58,
          85,
          140,
          92,
          117,
          97,
          107,
          73,
          56,
          56,
          161,
          1887,
          371,
          139,
          248,
          120,
          82,
          85,
          83,
          56,
          68,
          190,
          192,
          71,
          371,
          80,
          221,
          147,
          116,
          74,
          76,
          12,
          67,
          12,
          130,
          170,
          210,
          280,
          449,
          155,
          156,
          240,
          170,
          329,
          130,
          318,
          340,
          381,
          185,
          360,
          145,
          140,
          80,
          333,
          265,
          253,
          164,
          166,
          258,
          271,
          305,
          327,
          290,
          255,
          205,
          340,
          30,
          172,
          290,
          177,
          400,
          180,
          191,
          75,
          170,
          281,
          155,
          190,
          230,
          145,
          82,
          198,
          92,
          491,
          329,
          233,
          55,
          222,
          146,
          200,
          198,
          197,
          108,
          57,
          200,
          158,
          422,
          200,
          103,
          207,
          200,
          197,
          207,
          200,
          43,
          198,
          198,
          300,
          10,
          121,
          206,
          207,
          320,
          206,
          207,
          329,
          206,
          194,
          197,
          197,
          309,
          314,
          714,
          460,
          600,
          254,
          841,
          192,
          168,
          309,
          313,
          356,
          250,
          138,
          280,
          154,
          173,
          154,
          611,
          248,
          174,
          181,
          130,
          380,
          305,
          35,
          330,
          165,
          181,
          177,
          186,
          190,
          321,
          150,
          145,
          380,
          142,
          157,
          318,
          399,
          399,
          263,
          571,
          1,
          75,
          320,
          111,
          99,
          23,
          35,
          176,
          120,
          885,
          23,
          30,
          52,
          37,
          45,
          143,
          112,
          13,
          7,
          48,
          202,
          58,
          17,
          8,
          23,
          15,
          17,
          453,
          52,
          218,
          234,
          231,
          8,
          7,
          141,
          413,
          28,
          5,
          86,
          489,
          641,
          360,
          360,
          142,
          380,
          517,
          283,
          740,
          894,
          994,
          659,
          591,
          1471,
          672,
          346,
          759,
          410,
          116,
          326,
          48,
          59,
          451,
          410,
          367,
          94,
          585,
          398,
          414,
          200,
          57,
          400,
          585,
          431,
          222,
          268,
          352,
          279,
          312,
          410,
          172,
          561,
          300,
          48,
          437,
          391,
          359,
          403,
          290,
          451,
          95,
          451,
          481,
          575,
          25,
          511,
          44,
          480,
          312,
          171,
          24,
          29,
          389,
          229,
          963,
          839,
          420,
          290,
          700,
          672,
          517,
          517
         ],
         "xaxis": "x2",
         "yaxis": "y2"
        }
       ],
       "layout": {
        "bargap": 0.2,
        "barmode": "relative",
        "legend": {
         "tracegroupgap": 0
        },
        "template": {
         "data": {
          "bar": [
           {
            "error_x": {
             "color": "#2a3f5f"
            },
            "error_y": {
             "color": "#2a3f5f"
            },
            "marker": {
             "line": {
              "color": "#E5ECF6",
              "width": 0.5
             },
             "pattern": {
              "fillmode": "overlay",
              "size": 10,
              "solidity": 0.2
             }
            },
            "type": "bar"
           }
          ],
          "barpolar": [
           {
            "marker": {
             "line": {
              "color": "#E5ECF6",
              "width": 0.5
             },
             "pattern": {
              "fillmode": "overlay",
              "size": 10,
              "solidity": 0.2
             }
            },
            "type": "barpolar"
           }
          ],
          "carpet": [
           {
            "aaxis": {
             "endlinecolor": "#2a3f5f",
             "gridcolor": "white",
             "linecolor": "white",
             "minorgridcolor": "white",
             "startlinecolor": "#2a3f5f"
            },
            "baxis": {
             "endlinecolor": "#2a3f5f",
             "gridcolor": "white",
             "linecolor": "white",
             "minorgridcolor": "white",
             "startlinecolor": "#2a3f5f"
            },
            "type": "carpet"
           }
          ],
          "choropleth": [
           {
            "colorbar": {
             "outlinewidth": 0,
             "ticks": ""
            },
            "type": "choropleth"
           }
          ],
          "contour": [
           {
            "colorbar": {
             "outlinewidth": 0,
             "ticks": ""
            },
            "colorscale": [
             [
              0,
              "#0d0887"
             ],
             [
              0.1111111111111111,
              "#46039f"
             ],
             [
              0.2222222222222222,
              "#7201a8"
             ],
             [
              0.3333333333333333,
              "#9c179e"
             ],
             [
              0.4444444444444444,
              "#bd3786"
             ],
             [
              0.5555555555555556,
              "#d8576b"
             ],
             [
              0.6666666666666666,
              "#ed7953"
             ],
             [
              0.7777777777777778,
              "#fb9f3a"
             ],
             [
              0.8888888888888888,
              "#fdca26"
             ],
             [
              1,
              "#f0f921"
             ]
            ],
            "type": "contour"
           }
          ],
          "contourcarpet": [
           {
            "colorbar": {
             "outlinewidth": 0,
             "ticks": ""
            },
            "type": "contourcarpet"
           }
          ],
          "heatmap": [
           {
            "colorbar": {
             "outlinewidth": 0,
             "ticks": ""
            },
            "colorscale": [
             [
              0,
              "#0d0887"
             ],
             [
              0.1111111111111111,
              "#46039f"
             ],
             [
              0.2222222222222222,
              "#7201a8"
             ],
             [
              0.3333333333333333,
              "#9c179e"
             ],
             [
              0.4444444444444444,
              "#bd3786"
             ],
             [
              0.5555555555555556,
              "#d8576b"
             ],
             [
              0.6666666666666666,
              "#ed7953"
             ],
             [
              0.7777777777777778,
              "#fb9f3a"
             ],
             [
              0.8888888888888888,
              "#fdca26"
             ],
             [
              1,
              "#f0f921"
             ]
            ],
            "type": "heatmap"
           }
          ],
          "heatmapgl": [
           {
            "colorbar": {
             "outlinewidth": 0,
             "ticks": ""
            },
            "colorscale": [
             [
              0,
              "#0d0887"
             ],
             [
              0.1111111111111111,
              "#46039f"
             ],
             [
              0.2222222222222222,
              "#7201a8"
             ],
             [
              0.3333333333333333,
              "#9c179e"
             ],
             [
              0.4444444444444444,
              "#bd3786"
             ],
             [
              0.5555555555555556,
              "#d8576b"
             ],
             [
              0.6666666666666666,
              "#ed7953"
             ],
             [
              0.7777777777777778,
              "#fb9f3a"
             ],
             [
              0.8888888888888888,
              "#fdca26"
             ],
             [
              1,
              "#f0f921"
             ]
            ],
            "type": "heatmapgl"
           }
          ],
          "histogram": [
           {
            "marker": {
             "pattern": {
              "fillmode": "overlay",
              "size": 10,
              "solidity": 0.2
             }
            },
            "type": "histogram"
           }
          ],
          "histogram2d": [
           {
            "colorbar": {
             "outlinewidth": 0,
             "ticks": ""
            },
            "colorscale": [
             [
              0,
              "#0d0887"
             ],
             [
              0.1111111111111111,
              "#46039f"
             ],
             [
              0.2222222222222222,
              "#7201a8"
             ],
             [
              0.3333333333333333,
              "#9c179e"
             ],
             [
              0.4444444444444444,
              "#bd3786"
             ],
             [
              0.5555555555555556,
              "#d8576b"
             ],
             [
              0.6666666666666666,
              "#ed7953"
             ],
             [
              0.7777777777777778,
              "#fb9f3a"
             ],
             [
              0.8888888888888888,
              "#fdca26"
             ],
             [
              1,
              "#f0f921"
             ]
            ],
            "type": "histogram2d"
           }
          ],
          "histogram2dcontour": [
           {
            "colorbar": {
             "outlinewidth": 0,
             "ticks": ""
            },
            "colorscale": [
             [
              0,
              "#0d0887"
             ],
             [
              0.1111111111111111,
              "#46039f"
             ],
             [
              0.2222222222222222,
              "#7201a8"
             ],
             [
              0.3333333333333333,
              "#9c179e"
             ],
             [
              0.4444444444444444,
              "#bd3786"
             ],
             [
              0.5555555555555556,
              "#d8576b"
             ],
             [
              0.6666666666666666,
              "#ed7953"
             ],
             [
              0.7777777777777778,
              "#fb9f3a"
             ],
             [
              0.8888888888888888,
              "#fdca26"
             ],
             [
              1,
              "#f0f921"
             ]
            ],
            "type": "histogram2dcontour"
           }
          ],
          "mesh3d": [
           {
            "colorbar": {
             "outlinewidth": 0,
             "ticks": ""
            },
            "type": "mesh3d"
           }
          ],
          "parcoords": [
           {
            "line": {
             "colorbar": {
              "outlinewidth": 0,
              "ticks": ""
             }
            },
            "type": "parcoords"
           }
          ],
          "pie": [
           {
            "automargin": true,
            "type": "pie"
           }
          ],
          "scatter": [
           {
            "marker": {
             "colorbar": {
              "outlinewidth": 0,
              "ticks": ""
             }
            },
            "type": "scatter"
           }
          ],
          "scatter3d": [
           {
            "line": {
             "colorbar": {
              "outlinewidth": 0,
              "ticks": ""
             }
            },
            "marker": {
             "colorbar": {
              "outlinewidth": 0,
              "ticks": ""
             }
            },
            "type": "scatter3d"
           }
          ],
          "scattercarpet": [
           {
            "marker": {
             "colorbar": {
              "outlinewidth": 0,
              "ticks": ""
             }
            },
            "type": "scattercarpet"
           }
          ],
          "scattergeo": [
           {
            "marker": {
             "colorbar": {
              "outlinewidth": 0,
              "ticks": ""
             }
            },
            "type": "scattergeo"
           }
          ],
          "scattergl": [
           {
            "marker": {
             "colorbar": {
              "outlinewidth": 0,
              "ticks": ""
             }
            },
            "type": "scattergl"
           }
          ],
          "scattermapbox": [
           {
            "marker": {
             "colorbar": {
              "outlinewidth": 0,
              "ticks": ""
             }
            },
            "type": "scattermapbox"
           }
          ],
          "scatterpolar": [
           {
            "marker": {
             "colorbar": {
              "outlinewidth": 0,
              "ticks": ""
             }
            },
            "type": "scatterpolar"
           }
          ],
          "scatterpolargl": [
           {
            "marker": {
             "colorbar": {
              "outlinewidth": 0,
              "ticks": ""
             }
            },
            "type": "scatterpolargl"
           }
          ],
          "scatterternary": [
           {
            "marker": {
             "colorbar": {
              "outlinewidth": 0,
              "ticks": ""
             }
            },
            "type": "scatterternary"
           }
          ],
          "surface": [
           {
            "colorbar": {
             "outlinewidth": 0,
             "ticks": ""
            },
            "colorscale": [
             [
              0,
              "#0d0887"
             ],
             [
              0.1111111111111111,
              "#46039f"
             ],
             [
              0.2222222222222222,
              "#7201a8"
             ],
             [
              0.3333333333333333,
              "#9c179e"
             ],
             [
              0.4444444444444444,
              "#bd3786"
             ],
             [
              0.5555555555555556,
              "#d8576b"
             ],
             [
              0.6666666666666666,
              "#ed7953"
             ],
             [
              0.7777777777777778,
              "#fb9f3a"
             ],
             [
              0.8888888888888888,
              "#fdca26"
             ],
             [
              1,
              "#f0f921"
             ]
            ],
            "type": "surface"
           }
          ],
          "table": [
           {
            "cells": {
             "fill": {
              "color": "#EBF0F8"
             },
             "line": {
              "color": "white"
             }
            },
            "header": {
             "fill": {
              "color": "#C8D4E3"
             },
             "line": {
              "color": "white"
             }
            },
            "type": "table"
           }
          ]
         },
         "layout": {
          "annotationdefaults": {
           "arrowcolor": "#2a3f5f",
           "arrowhead": 0,
           "arrowwidth": 1
          },
          "autotypenumbers": "strict",
          "coloraxis": {
           "colorbar": {
            "outlinewidth": 0,
            "ticks": ""
           }
          },
          "colorscale": {
           "diverging": [
            [
             0,
             "#8e0152"
            ],
            [
             0.1,
             "#c51b7d"
            ],
            [
             0.2,
             "#de77ae"
            ],
            [
             0.3,
             "#f1b6da"
            ],
            [
             0.4,
             "#fde0ef"
            ],
            [
             0.5,
             "#f7f7f7"
            ],
            [
             0.6,
             "#e6f5d0"
            ],
            [
             0.7,
             "#b8e186"
            ],
            [
             0.8,
             "#7fbc41"
            ],
            [
             0.9,
             "#4d9221"
            ],
            [
             1,
             "#276419"
            ]
           ],
           "sequential": [
            [
             0,
             "#0d0887"
            ],
            [
             0.1111111111111111,
             "#46039f"
            ],
            [
             0.2222222222222222,
             "#7201a8"
            ],
            [
             0.3333333333333333,
             "#9c179e"
            ],
            [
             0.4444444444444444,
             "#bd3786"
            ],
            [
             0.5555555555555556,
             "#d8576b"
            ],
            [
             0.6666666666666666,
             "#ed7953"
            ],
            [
             0.7777777777777778,
             "#fb9f3a"
            ],
            [
             0.8888888888888888,
             "#fdca26"
            ],
            [
             1,
             "#f0f921"
            ]
           ],
           "sequentialminus": [
            [
             0,
             "#0d0887"
            ],
            [
             0.1111111111111111,
             "#46039f"
            ],
            [
             0.2222222222222222,
             "#7201a8"
            ],
            [
             0.3333333333333333,
             "#9c179e"
            ],
            [
             0.4444444444444444,
             "#bd3786"
            ],
            [
             0.5555555555555556,
             "#d8576b"
            ],
            [
             0.6666666666666666,
             "#ed7953"
            ],
            [
             0.7777777777777778,
             "#fb9f3a"
            ],
            [
             0.8888888888888888,
             "#fdca26"
            ],
            [
             1,
             "#f0f921"
            ]
           ]
          },
          "colorway": [
           "#636efa",
           "#EF553B",
           "#00cc96",
           "#ab63fa",
           "#FFA15A",
           "#19d3f3",
           "#FF6692",
           "#B6E880",
           "#FF97FF",
           "#FECB52"
          ],
          "font": {
           "color": "#2a3f5f"
          },
          "geo": {
           "bgcolor": "white",
           "lakecolor": "white",
           "landcolor": "#E5ECF6",
           "showlakes": true,
           "showland": true,
           "subunitcolor": "white"
          },
          "hoverlabel": {
           "align": "left"
          },
          "hovermode": "closest",
          "mapbox": {
           "style": "light"
          },
          "paper_bgcolor": "white",
          "plot_bgcolor": "#E5ECF6",
          "polar": {
           "angularaxis": {
            "gridcolor": "white",
            "linecolor": "white",
            "ticks": ""
           },
           "bgcolor": "#E5ECF6",
           "radialaxis": {
            "gridcolor": "white",
            "linecolor": "white",
            "ticks": ""
           }
          },
          "scene": {
           "xaxis": {
            "backgroundcolor": "#E5ECF6",
            "gridcolor": "white",
            "gridwidth": 2,
            "linecolor": "white",
            "showbackground": true,
            "ticks": "",
            "zerolinecolor": "white"
           },
           "yaxis": {
            "backgroundcolor": "#E5ECF6",
            "gridcolor": "white",
            "gridwidth": 2,
            "linecolor": "white",
            "showbackground": true,
            "ticks": "",
            "zerolinecolor": "white"
           },
           "zaxis": {
            "backgroundcolor": "#E5ECF6",
            "gridcolor": "white",
            "gridwidth": 2,
            "linecolor": "white",
            "showbackground": true,
            "ticks": "",
            "zerolinecolor": "white"
           }
          },
          "shapedefaults": {
           "line": {
            "color": "#2a3f5f"
           }
          },
          "ternary": {
           "aaxis": {
            "gridcolor": "white",
            "linecolor": "white",
            "ticks": ""
           },
           "baxis": {
            "gridcolor": "white",
            "linecolor": "white",
            "ticks": ""
           },
           "bgcolor": "#E5ECF6",
           "caxis": {
            "gridcolor": "white",
            "linecolor": "white",
            "ticks": ""
           }
          },
          "title": {
           "x": 0.05
          },
          "xaxis": {
           "automargin": true,
           "gridcolor": "white",
           "linecolor": "white",
           "ticks": "",
           "title": {
            "standoff": 15
           },
           "zerolinecolor": "white",
           "zerolinewidth": 2
          },
          "yaxis": {
           "automargin": true,
           "gridcolor": "white",
           "linecolor": "white",
           "ticks": "",
           "title": {
            "standoff": 15
           },
           "zerolinecolor": "white",
           "zerolinewidth": 2
          }
         }
        },
        "title": {
         "text": "Calories Distribution"
        },
        "xaxis": {
         "anchor": "y",
         "domain": [
          0,
          1
         ],
         "title": {
          "text": "Calories"
         }
        },
        "xaxis2": {
         "anchor": "y2",
         "domain": [
          0,
          1
         ],
         "matches": "x",
         "showgrid": true,
         "showticklabels": false
        },
        "yaxis": {
         "anchor": "x",
         "domain": [
          0,
          0.8316
         ],
         "title": {
          "text": "count"
         }
        },
        "yaxis2": {
         "anchor": "x2",
         "domain": [
          0.8416,
          1
         ],
         "matches": "y2",
         "showgrid": false,
         "showline": false,
         "showticklabels": false,
         "ticks": ""
        }
       }
      },
      "text/html": [
       "<div>                            <div id=\"ffe5de7e-b7cf-4408-8dc0-ac892ea18139\" class=\"plotly-graph-div\" style=\"height:525px; width:100%;\"></div>            <script type=\"text/javascript\">                require([\"plotly\"], function(Plotly) {                    window.PLOTLYENV=window.PLOTLYENV || {};                                    if (document.getElementById(\"ffe5de7e-b7cf-4408-8dc0-ac892ea18139\")) {                    Plotly.newPlot(                        \"ffe5de7e-b7cf-4408-8dc0-ac892ea18139\",                        [{\"alignmentgroup\":\"True\",\"bingroup\":\"x\",\"hovertemplate\":\"Calories=%{x}<br>count=%{y}<extra></extra>\",\"legendgroup\":\"\",\"marker\":{\"color\":\"#636efa\",\"pattern\":{\"shape\":\"\"}},\"name\":\"\",\"offsetgroup\":\"\",\"orientation\":\"v\",\"showlegend\":false,\"type\":\"histogram\",\"x\":[60,1,2,115,35,15,2,207,8,227,12,25,3,6,9,20,38,134,1,12,562,33,148,66,115,87,73,4,9,108,34,2,5,7,33,108,112,54,90,1,15,1,4,2,34,128,79,20,164,51,1,7,147,18,78,88,112,20,34,34,184,147,33,20,95,167,17,320,111,62,70,84,23,4,35,46,63,136,20,37,125,104,2,37,143,22,112,17,20,7,47,202,70,60,66,2,62,215,17,59,101,32,2,453,218,30,234,52,434,7,64,11,28,49,5,47,86,360,539,244,360,186,484,101,323,593,670,326,490,33,392,423,2209,250,673,195,266,418,632,13,438,349,523,304,62,37,287,323,290,585,662,75,392,352,435,250,774,284,699,699,174,290,721,260,420,375,200,260,190,200,401,300,272,295,136,551,380,134,641,23,240,107,361,101,159,130,101,397,374,350,350,213,198,83,716,556,31,757,583,567,110,442,488,650,35,119,897,832,104,20,627,484,521,80,231,553,549,16,46,626,41,422,99,139,95,588,283,601,818,467,160,125,432,10,601,386,407,300,123,124,125,120,124,124,120,120,123,124,124,124,117,128,124,124,120,123,123,120,124,123,124,120,128,124,124,123,124,124,120,124,130,62,335,7,83,70,39,264,206,69,95,95,10,39,56,62,39,77,58,85,140,92,117,97,107,73,56,56,161,1887,371,139,248,120,82,85,83,56,68,190,192,71,371,80,221,147,116,74,76,12,67,12,130,170,210,280,449,155,156,240,170,329,130,318,340,381,185,360,145,140,80,333,265,253,164,166,258,271,305,327,290,255,205,340,30,172,290,177,400,180,191,75,170,281,155,190,230,145,82,198,92,491,329,233,55,222,146,200,198,197,108,57,200,158,422,200,103,207,200,197,207,200,43,198,198,300,10,121,206,207,320,206,207,329,206,194,197,197,309,314,714,460,600,254,841,192,168,309,313,356,250,138,280,154,173,154,611,248,174,181,130,380,305,35,330,165,181,177,186,190,321,150,145,380,142,157,318,399,399,263,571,1,75,320,111,99,23,35,176,120,885,23,30,52,37,45,143,112,13,7,48,202,58,17,8,23,15,17,453,52,218,234,231,8,7,141,413,28,5,86,489,641,360,360,142,380,517,283,740,894,994,659,591,1471,672,346,759,410,116,326,48,59,451,410,367,94,585,398,414,200,57,400,585,431,222,268,352,279,312,410,172,561,300,48,437,391,359,403,290,451,95,451,481,575,25,511,44,480,312,171,24,29,389,229,963,839,420,290,700,672,517,517],\"xaxis\":\"x\",\"yaxis\":\"y\"},{\"alignmentgroup\":\"True\",\"hovertemplate\":\"Calories=%{x}<extra></extra>\",\"legendgroup\":\"\",\"marker\":{\"color\":\"#636efa\"},\"name\":\"\",\"notched\":true,\"offsetgroup\":\"\",\"showlegend\":false,\"type\":\"box\",\"x\":[60,1,2,115,35,15,2,207,8,227,12,25,3,6,9,20,38,134,1,12,562,33,148,66,115,87,73,4,9,108,34,2,5,7,33,108,112,54,90,1,15,1,4,2,34,128,79,20,164,51,1,7,147,18,78,88,112,20,34,34,184,147,33,20,95,167,17,320,111,62,70,84,23,4,35,46,63,136,20,37,125,104,2,37,143,22,112,17,20,7,47,202,70,60,66,2,62,215,17,59,101,32,2,453,218,30,234,52,434,7,64,11,28,49,5,47,86,360,539,244,360,186,484,101,323,593,670,326,490,33,392,423,2209,250,673,195,266,418,632,13,438,349,523,304,62,37,287,323,290,585,662,75,392,352,435,250,774,284,699,699,174,290,721,260,420,375,200,260,190,200,401,300,272,295,136,551,380,134,641,23,240,107,361,101,159,130,101,397,374,350,350,213,198,83,716,556,31,757,583,567,110,442,488,650,35,119,897,832,104,20,627,484,521,80,231,553,549,16,46,626,41,422,99,139,95,588,283,601,818,467,160,125,432,10,601,386,407,300,123,124,125,120,124,124,120,120,123,124,124,124,117,128,124,124,120,123,123,120,124,123,124,120,128,124,124,123,124,124,120,124,130,62,335,7,83,70,39,264,206,69,95,95,10,39,56,62,39,77,58,85,140,92,117,97,107,73,56,56,161,1887,371,139,248,120,82,85,83,56,68,190,192,71,371,80,221,147,116,74,76,12,67,12,130,170,210,280,449,155,156,240,170,329,130,318,340,381,185,360,145,140,80,333,265,253,164,166,258,271,305,327,290,255,205,340,30,172,290,177,400,180,191,75,170,281,155,190,230,145,82,198,92,491,329,233,55,222,146,200,198,197,108,57,200,158,422,200,103,207,200,197,207,200,43,198,198,300,10,121,206,207,320,206,207,329,206,194,197,197,309,314,714,460,600,254,841,192,168,309,313,356,250,138,280,154,173,154,611,248,174,181,130,380,305,35,330,165,181,177,186,190,321,150,145,380,142,157,318,399,399,263,571,1,75,320,111,99,23,35,176,120,885,23,30,52,37,45,143,112,13,7,48,202,58,17,8,23,15,17,453,52,218,234,231,8,7,141,413,28,5,86,489,641,360,360,142,380,517,283,740,894,994,659,591,1471,672,346,759,410,116,326,48,59,451,410,367,94,585,398,414,200,57,400,585,431,222,268,352,279,312,410,172,561,300,48,437,391,359,403,290,451,95,451,481,575,25,511,44,480,312,171,24,29,389,229,963,839,420,290,700,672,517,517],\"xaxis\":\"x2\",\"yaxis\":\"y2\"}],                        {\"bargap\":0.2,\"barmode\":\"relative\",\"legend\":{\"tracegroupgap\":0},\"template\":{\"data\":{\"bar\":[{\"error_x\":{\"color\":\"#2a3f5f\"},\"error_y\":{\"color\":\"#2a3f5f\"},\"marker\":{\"line\":{\"color\":\"#E5ECF6\",\"width\":0.5},\"pattern\":{\"fillmode\":\"overlay\",\"size\":10,\"solidity\":0.2}},\"type\":\"bar\"}],\"barpolar\":[{\"marker\":{\"line\":{\"color\":\"#E5ECF6\",\"width\":0.5},\"pattern\":{\"fillmode\":\"overlay\",\"size\":10,\"solidity\":0.2}},\"type\":\"barpolar\"}],\"carpet\":[{\"aaxis\":{\"endlinecolor\":\"#2a3f5f\",\"gridcolor\":\"white\",\"linecolor\":\"white\",\"minorgridcolor\":\"white\",\"startlinecolor\":\"#2a3f5f\"},\"baxis\":{\"endlinecolor\":\"#2a3f5f\",\"gridcolor\":\"white\",\"linecolor\":\"white\",\"minorgridcolor\":\"white\",\"startlinecolor\":\"#2a3f5f\"},\"type\":\"carpet\"}],\"choropleth\":[{\"colorbar\":{\"outlinewidth\":0,\"ticks\":\"\"},\"type\":\"choropleth\"}],\"contour\":[{\"colorbar\":{\"outlinewidth\":0,\"ticks\":\"\"},\"colorscale\":[[0.0,\"#0d0887\"],[0.1111111111111111,\"#46039f\"],[0.2222222222222222,\"#7201a8\"],[0.3333333333333333,\"#9c179e\"],[0.4444444444444444,\"#bd3786\"],[0.5555555555555556,\"#d8576b\"],[0.6666666666666666,\"#ed7953\"],[0.7777777777777778,\"#fb9f3a\"],[0.8888888888888888,\"#fdca26\"],[1.0,\"#f0f921\"]],\"type\":\"contour\"}],\"contourcarpet\":[{\"colorbar\":{\"outlinewidth\":0,\"ticks\":\"\"},\"type\":\"contourcarpet\"}],\"heatmap\":[{\"colorbar\":{\"outlinewidth\":0,\"ticks\":\"\"},\"colorscale\":[[0.0,\"#0d0887\"],[0.1111111111111111,\"#46039f\"],[0.2222222222222222,\"#7201a8\"],[0.3333333333333333,\"#9c179e\"],[0.4444444444444444,\"#bd3786\"],[0.5555555555555556,\"#d8576b\"],[0.6666666666666666,\"#ed7953\"],[0.7777777777777778,\"#fb9f3a\"],[0.8888888888888888,\"#fdca26\"],[1.0,\"#f0f921\"]],\"type\":\"heatmap\"}],\"heatmapgl\":[{\"colorbar\":{\"outlinewidth\":0,\"ticks\":\"\"},\"colorscale\":[[0.0,\"#0d0887\"],[0.1111111111111111,\"#46039f\"],[0.2222222222222222,\"#7201a8\"],[0.3333333333333333,\"#9c179e\"],[0.4444444444444444,\"#bd3786\"],[0.5555555555555556,\"#d8576b\"],[0.6666666666666666,\"#ed7953\"],[0.7777777777777778,\"#fb9f3a\"],[0.8888888888888888,\"#fdca26\"],[1.0,\"#f0f921\"]],\"type\":\"heatmapgl\"}],\"histogram\":[{\"marker\":{\"pattern\":{\"fillmode\":\"overlay\",\"size\":10,\"solidity\":0.2}},\"type\":\"histogram\"}],\"histogram2d\":[{\"colorbar\":{\"outlinewidth\":0,\"ticks\":\"\"},\"colorscale\":[[0.0,\"#0d0887\"],[0.1111111111111111,\"#46039f\"],[0.2222222222222222,\"#7201a8\"],[0.3333333333333333,\"#9c179e\"],[0.4444444444444444,\"#bd3786\"],[0.5555555555555556,\"#d8576b\"],[0.6666666666666666,\"#ed7953\"],[0.7777777777777778,\"#fb9f3a\"],[0.8888888888888888,\"#fdca26\"],[1.0,\"#f0f921\"]],\"type\":\"histogram2d\"}],\"histogram2dcontour\":[{\"colorbar\":{\"outlinewidth\":0,\"ticks\":\"\"},\"colorscale\":[[0.0,\"#0d0887\"],[0.1111111111111111,\"#46039f\"],[0.2222222222222222,\"#7201a8\"],[0.3333333333333333,\"#9c179e\"],[0.4444444444444444,\"#bd3786\"],[0.5555555555555556,\"#d8576b\"],[0.6666666666666666,\"#ed7953\"],[0.7777777777777778,\"#fb9f3a\"],[0.8888888888888888,\"#fdca26\"],[1.0,\"#f0f921\"]],\"type\":\"histogram2dcontour\"}],\"mesh3d\":[{\"colorbar\":{\"outlinewidth\":0,\"ticks\":\"\"},\"type\":\"mesh3d\"}],\"parcoords\":[{\"line\":{\"colorbar\":{\"outlinewidth\":0,\"ticks\":\"\"}},\"type\":\"parcoords\"}],\"pie\":[{\"automargin\":true,\"type\":\"pie\"}],\"scatter\":[{\"marker\":{\"colorbar\":{\"outlinewidth\":0,\"ticks\":\"\"}},\"type\":\"scatter\"}],\"scatter3d\":[{\"line\":{\"colorbar\":{\"outlinewidth\":0,\"ticks\":\"\"}},\"marker\":{\"colorbar\":{\"outlinewidth\":0,\"ticks\":\"\"}},\"type\":\"scatter3d\"}],\"scattercarpet\":[{\"marker\":{\"colorbar\":{\"outlinewidth\":0,\"ticks\":\"\"}},\"type\":\"scattercarpet\"}],\"scattergeo\":[{\"marker\":{\"colorbar\":{\"outlinewidth\":0,\"ticks\":\"\"}},\"type\":\"scattergeo\"}],\"scattergl\":[{\"marker\":{\"colorbar\":{\"outlinewidth\":0,\"ticks\":\"\"}},\"type\":\"scattergl\"}],\"scattermapbox\":[{\"marker\":{\"colorbar\":{\"outlinewidth\":0,\"ticks\":\"\"}},\"type\":\"scattermapbox\"}],\"scatterpolar\":[{\"marker\":{\"colorbar\":{\"outlinewidth\":0,\"ticks\":\"\"}},\"type\":\"scatterpolar\"}],\"scatterpolargl\":[{\"marker\":{\"colorbar\":{\"outlinewidth\":0,\"ticks\":\"\"}},\"type\":\"scatterpolargl\"}],\"scatterternary\":[{\"marker\":{\"colorbar\":{\"outlinewidth\":0,\"ticks\":\"\"}},\"type\":\"scatterternary\"}],\"surface\":[{\"colorbar\":{\"outlinewidth\":0,\"ticks\":\"\"},\"colorscale\":[[0.0,\"#0d0887\"],[0.1111111111111111,\"#46039f\"],[0.2222222222222222,\"#7201a8\"],[0.3333333333333333,\"#9c179e\"],[0.4444444444444444,\"#bd3786\"],[0.5555555555555556,\"#d8576b\"],[0.6666666666666666,\"#ed7953\"],[0.7777777777777778,\"#fb9f3a\"],[0.8888888888888888,\"#fdca26\"],[1.0,\"#f0f921\"]],\"type\":\"surface\"}],\"table\":[{\"cells\":{\"fill\":{\"color\":\"#EBF0F8\"},\"line\":{\"color\":\"white\"}},\"header\":{\"fill\":{\"color\":\"#C8D4E3\"},\"line\":{\"color\":\"white\"}},\"type\":\"table\"}]},\"layout\":{\"annotationdefaults\":{\"arrowcolor\":\"#2a3f5f\",\"arrowhead\":0,\"arrowwidth\":1},\"autotypenumbers\":\"strict\",\"coloraxis\":{\"colorbar\":{\"outlinewidth\":0,\"ticks\":\"\"}},\"colorscale\":{\"diverging\":[[0,\"#8e0152\"],[0.1,\"#c51b7d\"],[0.2,\"#de77ae\"],[0.3,\"#f1b6da\"],[0.4,\"#fde0ef\"],[0.5,\"#f7f7f7\"],[0.6,\"#e6f5d0\"],[0.7,\"#b8e186\"],[0.8,\"#7fbc41\"],[0.9,\"#4d9221\"],[1,\"#276419\"]],\"sequential\":[[0.0,\"#0d0887\"],[0.1111111111111111,\"#46039f\"],[0.2222222222222222,\"#7201a8\"],[0.3333333333333333,\"#9c179e\"],[0.4444444444444444,\"#bd3786\"],[0.5555555555555556,\"#d8576b\"],[0.6666666666666666,\"#ed7953\"],[0.7777777777777778,\"#fb9f3a\"],[0.8888888888888888,\"#fdca26\"],[1.0,\"#f0f921\"]],\"sequentialminus\":[[0.0,\"#0d0887\"],[0.1111111111111111,\"#46039f\"],[0.2222222222222222,\"#7201a8\"],[0.3333333333333333,\"#9c179e\"],[0.4444444444444444,\"#bd3786\"],[0.5555555555555556,\"#d8576b\"],[0.6666666666666666,\"#ed7953\"],[0.7777777777777778,\"#fb9f3a\"],[0.8888888888888888,\"#fdca26\"],[1.0,\"#f0f921\"]]},\"colorway\":[\"#636efa\",\"#EF553B\",\"#00cc96\",\"#ab63fa\",\"#FFA15A\",\"#19d3f3\",\"#FF6692\",\"#B6E880\",\"#FF97FF\",\"#FECB52\"],\"font\":{\"color\":\"#2a3f5f\"},\"geo\":{\"bgcolor\":\"white\",\"lakecolor\":\"white\",\"landcolor\":\"#E5ECF6\",\"showlakes\":true,\"showland\":true,\"subunitcolor\":\"white\"},\"hoverlabel\":{\"align\":\"left\"},\"hovermode\":\"closest\",\"mapbox\":{\"style\":\"light\"},\"paper_bgcolor\":\"white\",\"plot_bgcolor\":\"#E5ECF6\",\"polar\":{\"angularaxis\":{\"gridcolor\":\"white\",\"linecolor\":\"white\",\"ticks\":\"\"},\"bgcolor\":\"#E5ECF6\",\"radialaxis\":{\"gridcolor\":\"white\",\"linecolor\":\"white\",\"ticks\":\"\"}},\"scene\":{\"xaxis\":{\"backgroundcolor\":\"#E5ECF6\",\"gridcolor\":\"white\",\"gridwidth\":2,\"linecolor\":\"white\",\"showbackground\":true,\"ticks\":\"\",\"zerolinecolor\":\"white\"},\"yaxis\":{\"backgroundcolor\":\"#E5ECF6\",\"gridcolor\":\"white\",\"gridwidth\":2,\"linecolor\":\"white\",\"showbackground\":true,\"ticks\":\"\",\"zerolinecolor\":\"white\"},\"zaxis\":{\"backgroundcolor\":\"#E5ECF6\",\"gridcolor\":\"white\",\"gridwidth\":2,\"linecolor\":\"white\",\"showbackground\":true,\"ticks\":\"\",\"zerolinecolor\":\"white\"}},\"shapedefaults\":{\"line\":{\"color\":\"#2a3f5f\"}},\"ternary\":{\"aaxis\":{\"gridcolor\":\"white\",\"linecolor\":\"white\",\"ticks\":\"\"},\"baxis\":{\"gridcolor\":\"white\",\"linecolor\":\"white\",\"ticks\":\"\"},\"bgcolor\":\"#E5ECF6\",\"caxis\":{\"gridcolor\":\"white\",\"linecolor\":\"white\",\"ticks\":\"\"}},\"title\":{\"x\":0.05},\"xaxis\":{\"automargin\":true,\"gridcolor\":\"white\",\"linecolor\":\"white\",\"ticks\":\"\",\"title\":{\"standoff\":15},\"zerolinecolor\":\"white\",\"zerolinewidth\":2},\"yaxis\":{\"automargin\":true,\"gridcolor\":\"white\",\"linecolor\":\"white\",\"ticks\":\"\",\"title\":{\"standoff\":15},\"zerolinecolor\":\"white\",\"zerolinewidth\":2}}},\"title\":{\"text\":\"Calories Distribution\"},\"xaxis\":{\"anchor\":\"y\",\"domain\":[0.0,1.0],\"title\":{\"text\":\"Calories\"}},\"xaxis2\":{\"anchor\":\"y2\",\"domain\":[0.0,1.0],\"matches\":\"x\",\"showgrid\":true,\"showticklabels\":false},\"yaxis\":{\"anchor\":\"x\",\"domain\":[0.0,0.8316],\"title\":{\"text\":\"count\"}},\"yaxis2\":{\"anchor\":\"x2\",\"domain\":[0.8416,1.0],\"matches\":\"y2\",\"showgrid\":false,\"showline\":false,\"showticklabels\":false,\"ticks\":\"\"}},                        {\"responsive\": true}                    ).then(function(){\n",
       "                            \n",
       "var gd = document.getElementById('ffe5de7e-b7cf-4408-8dc0-ac892ea18139');\n",
       "var x = new MutationObserver(function (mutations, observer) {{\n",
       "        var display = window.getComputedStyle(gd).display;\n",
       "        if (!display || display === 'none') {{\n",
       "            console.log([gd, 'removed!']);\n",
       "            Plotly.purge(gd);\n",
       "            observer.disconnect();\n",
       "        }}\n",
       "}});\n",
       "\n",
       "// Listen for the removal of the full notebook cells\n",
       "var notebookContainer = gd.closest('#notebook-container');\n",
       "if (notebookContainer) {{\n",
       "    x.observe(notebookContainer, {childList: true});\n",
       "}}\n",
       "\n",
       "// Listen for the clearing of the current output cell\n",
       "var outputEl = gd.closest('.output');\n",
       "if (outputEl) {{\n",
       "    x.observe(outputEl, {childList: true});\n",
       "}}\n",
       "\n",
       "                        })                };                });            </script>        </div>"
      ]
     },
     "metadata": {},
     "output_type": "display_data"
    }
   ],
   "source": [
    "fig = px.histogram(data,marginal=\"box\",x=\"Calories\",title=\"Calories Distribution\")\n",
    "fig.update_layout(bargap=0.2)"
   ]
  },
  {
   "cell_type": "code",
   "execution_count": 71,
   "metadata": {},
   "outputs": [
    {
     "data": {
      "text/plain": [
       "Text(0, 0.5, 'Count')"
      ]
     },
     "execution_count": 71,
     "metadata": {},
     "output_type": "execute_result"
    },
    {
     "data": {
      "image/png": "[encoded data removed]",
      "text/plain": [
       "<Figure size 1440x720 with 1 Axes>"
      ]
     },
     "metadata": {
      "needs_background": "light"
     },
     "output_type": "display_data"
    }
   ],
   "source": [
    "plt.figure(figsize=(20,10))\n",
    "sns.histplot(data=data,x=\"Calories\")\n",
    "plt.xlabel(\"Calories\")\n",
    "plt.xticks(rotation=90)\n",
    "plt.ylabel(\"Count\")"
   ]
  },
  {
   "cell_type": "code",
   "execution_count": 72,
   "metadata": {},
   "outputs": [
    {
     "data": {
      "text/html": [
       "<div>\n",
       "<style scoped>\n",
       "    .dataframe tbody tr th:only-of-type {\n",
       "        vertical-align: middle;\n",
       "    }\n",
       "\n",
       "    .dataframe tbody tr th {\n",
       "        vertical-align: top;\n",
       "    }\n",
       "\n",
       "    .dataframe thead th {\n",
       "        text-align: right;\n",
       "    }\n",
       "</style>\n",
       "<table border=\"1\" class=\"dataframe\">\n",
       "  <thead>\n",
       "    <tr style=\"text-align: right;\">\n",
       "      <th></th>\n",
       "      <th>Food</th>\n",
       "      <th>Serving</th>\n",
       "      <th>Calories</th>\n",
       "    </tr>\n",
       "  </thead>\n",
       "  <tbody>\n",
       "    <tr>\n",
       "      <th>132</th>\n",
       "      <td>Chicken Marsala</td>\n",
       "      <td>1 serving</td>\n",
       "      <td>2209</td>\n",
       "    </tr>\n",
       "  </tbody>\n",
       "</table>\n",
       "</div>"
      ],
      "text/plain": [
       "                Food     Serving  Calories\n",
       "132  Chicken Marsala  1 serving       2209"
      ]
     },
     "execution_count": 72,
     "metadata": {},
     "output_type": "execute_result"
    }
   ],
   "source": [
    "data[data['Calories'] == data['Calories'].max()]"
   ]
  },
  {
   "cell_type": "code",
   "execution_count": 73,
   "metadata": {},
   "outputs": [
    {
     "data": {
      "text/plain": [
       "count     562.000000\n",
       "mean      229.669039\n",
       "std       232.303786\n",
       "min         1.000000\n",
       "25%        70.000000\n",
       "50%       160.500000\n",
       "75%       328.500000\n",
       "max      2209.000000\n",
       "Name: Calories, dtype: float64"
      ]
     },
     "execution_count": 73,
     "metadata": {},
     "output_type": "execute_result"
    }
   ],
   "source": [
    "data[\"Calories\"].describe()"
   ]
  },
  {
   "cell_type": "code",
   "execution_count": 74,
   "metadata": {},
   "outputs": [
    {
     "data": {
      "text/plain": [
       "132                           Chicken Marsala\n",
       "299                                   Goulash\n",
       "503                Burger King Triple Whopper\n",
       "500    Burger King Double Whopper with Cheese\n",
       "554                              Veggie Patty\n",
       "206                                  Flaxseed\n",
       "499                Burger King Double Whopper\n",
       "460                                    Durian\n",
       "414                                   Calzone\n",
       "555                         Wendy’s Baconator\n",
       "207                                   Freekeh\n",
       "228                           Sunflower Seeds\n",
       "156                                     Kebab\n",
       "506           Burger King Whopper with Cheese\n",
       "197                                Brown Rice\n",
       "498                 Burger King Angry Whopper\n",
       "162                                  Meatloaf\n",
       "194                                  Amaranth\n",
       "410                                Beef Pizza\n",
       "Name: Food, dtype: object"
      ]
     },
     "execution_count": 74,
     "metadata": {},
     "output_type": "execute_result"
    }
   ],
   "source": [
    "data.sort_values(by=\"Calories\")['Food'].iloc[-1:-20:-1]"
   ]
  },
  {
   "cell_type": "code",
   "execution_count": 75,
   "metadata": {},
   "outputs": [
    {
     "data": {
      "text/plain": [
       "Text(0, 0.5, 'Calories')"
      ]
     },
     "execution_count": 75,
     "metadata": {},
     "output_type": "execute_result"
    },
    {
     "data": {
      "image/png": "[encoded data removed]",
      "text/plain": [
       "<Figure size 1152x648 with 1 Axes>"
      ]
     },
     "metadata": {
      "needs_background": "light"
     },
     "output_type": "display_data"
    }
   ],
   "source": [
    "plt.figure(figsize=(16,9))\n",
    "sns.barplot(x=data.sort_values(by=\"Calories\")['Food'].iloc[-1:-20:-1].values,y=data.sort_values(by=\"Calories\")['Calories'].iloc[-1:-20:-1].values,data=data)\n",
    "plt.xlabel(\"Food\")\n",
    "plt.xticks(rotation=90)\n",
    "plt.ylabel(\"Calories\")"
   ]
  },
  {
   "cell_type": "code",
   "execution_count": 76,
   "metadata": {},
   "outputs": [
    {
     "data": {
      "text/html": [
       "<div>\n",
       "<style scoped>\n",
       "    .dataframe tbody tr th:only-of-type {\n",
       "        vertical-align: middle;\n",
       "    }\n",
       "\n",
       "    .dataframe tbody tr th {\n",
       "        vertical-align: top;\n",
       "    }\n",
       "\n",
       "    .dataframe thead th {\n",
       "        text-align: right;\n",
       "    }\n",
       "</style>\n",
       "<table border=\"1\" class=\"dataframe\">\n",
       "  <thead>\n",
       "    <tr style=\"text-align: right;\">\n",
       "      <th></th>\n",
       "      <th>Food</th>\n",
       "      <th>Serving</th>\n",
       "      <th>Calories</th>\n",
       "    </tr>\n",
       "  </thead>\n",
       "  <tbody>\n",
       "    <tr>\n",
       "      <th>216</th>\n",
       "      <td>Polenta</td>\n",
       "      <td>1 cup</td>\n",
       "      <td>549</td>\n",
       "    </tr>\n",
       "    <tr>\n",
       "      <th>516</th>\n",
       "      <td>Chop Suey</td>\n",
       "      <td>1 serving</td>\n",
       "      <td>585</td>\n",
       "    </tr>\n",
       "    <tr>\n",
       "      <th>20</th>\n",
       "      <td>Corn</td>\n",
       "      <td>1 cup</td>\n",
       "      <td>562</td>\n",
       "    </tr>\n",
       "    <tr>\n",
       "      <th>492</th>\n",
       "      <td>Arby’s Roast Beef Classic</td>\n",
       "      <td>1 burger</td>\n",
       "      <td>360</td>\n",
       "    </tr>\n",
       "    <tr>\n",
       "      <th>316</th>\n",
       "      <td>Tomato Rice Soup</td>\n",
       "      <td>1 cup</td>\n",
       "      <td>116</td>\n",
       "    </tr>\n",
       "    <tr>\n",
       "      <th>474</th>\n",
       "      <td>Maraschino Cherries</td>\n",
       "      <td>1 cherry</td>\n",
       "      <td>8</td>\n",
       "    </tr>\n",
       "    <tr>\n",
       "      <th>509</th>\n",
       "      <td>Chicken Fajita</td>\n",
       "      <td>1 sandwich</td>\n",
       "      <td>326</td>\n",
       "    </tr>\n",
       "    <tr>\n",
       "      <th>116</th>\n",
       "      <td>Watermelon</td>\n",
       "      <td>1 wedge</td>\n",
       "      <td>86</td>\n",
       "    </tr>\n",
       "    <tr>\n",
       "      <th>342</th>\n",
       "      <td>Ice Cream Sandwich</td>\n",
       "      <td>1 bar</td>\n",
       "      <td>265</td>\n",
       "    </tr>\n",
       "    <tr>\n",
       "      <th>179</th>\n",
       "      <td>Roast Beef</td>\n",
       "      <td>1 slice</td>\n",
       "      <td>23</td>\n",
       "    </tr>\n",
       "  </tbody>\n",
       "</table>\n",
       "</div>"
      ],
      "text/plain": [
       "                          Food      Serving  Calories\n",
       "216                    Polenta       1 cup        549\n",
       "516                  Chop Suey   1 serving        585\n",
       "20                        Corn       1 cup        562\n",
       "492  Arby’s Roast Beef Classic    1 burger        360\n",
       "316           Tomato Rice Soup       1 cup        116\n",
       "474        Maraschino Cherries    1 cherry          8\n",
       "509             Chicken Fajita  1 sandwich        326\n",
       "116                 Watermelon     1 wedge         86\n",
       "342         Ice Cream Sandwich       1 bar        265\n",
       "179                 Roast Beef     1 slice         23"
      ]
     },
     "execution_count": 76,
     "metadata": {},
     "output_type": "execute_result"
    }
   ],
   "source": [
    "data.sample(10)"
   ]
  },
  {
   "cell_type": "code",
   "execution_count": 77,
   "metadata": {},
   "outputs": [
    {
     "data": {
      "text/plain": [
       "Text(0, 0.5, 'Count')"
      ]
     },
     "execution_count": 77,
     "metadata": {},
     "output_type": "execute_result"
    },
    {
     "data": {
      "image/png": "[encoded data removed]",
      "text/plain": [
       "<Figure size 1440x720 with 1 Axes>"
      ]
     },
     "metadata": {
      "needs_background": "light"
     },
     "output_type": "display_data"
    }
   ],
   "source": [
    "plt.figure(figsize=(20,10))\n",
    "sns.countplot(data.sort_values(by=\"Calories\")['Serving'].iloc[:25].values)\n",
    "plt.xlabel(\"Serving\")\n",
    "plt.xticks(rotation=90)\n",
    "plt.ylabel(\"Count\")"
   ]
  },
  {
   "cell_type": "code",
   "execution_count": null,
   "metadata": {},
   "outputs": [],
   "source": []
  },
  {
   "cell_type": "code",
   "execution_count": null,
   "metadata": {},
   "outputs": [],
   "source": []
  }
 ],
 "metadata": {
  "kernelspec": {
   "display_name": "Python 3.9.2 64-bit",
   "language": "python",
   "name": "python392jvsc74a57bd0767d51c1340bd893661ea55ea3124f6de3c7a262a8b4abca0554b478b1e2ff90"
  },
  "language_info": {
   "codemirror_mode": {
    "name": "ipython",
    "version": 3
   },
   "file_extension": ".py",
   "mimetype": "text/x-python",
   "name": "python",
   "nbconvert_exporter": "python",
   "pygments_lexer": "ipython3",
   "version": "3.9.2"
  }
 },
 "nbformat": 4,
 "nbformat_minor": 4
}
