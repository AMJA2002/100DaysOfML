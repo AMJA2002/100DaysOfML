{
 "cells": [
  {
   "cell_type": "markdown",
   "id": "abe8f04e",
   "metadata": {},
   "source": [
    "## Machine Learning Pipeline\n",
    "\n",
    "Pipeline is a way to automate the workflow it takes to produce a machine learning model. Machine learning pipelines consist of multiple sequential steps that do everything from data extraction and preprocessing to model training and deployment."
   ]
  },
  {
   "cell_type": "markdown",
   "id": "87ddde01",
   "metadata": {},
   "source": [
    "A typical machine learning pipeline would consist of the following processes:\n",
    "\n",
    "- Data collection\n",
    "- Data cleaning\n",
    "- Feature extraction (labelling and dimensionality reduction)\n",
    "- Model validation\n",
    "- Visualisation"
   ]
  },
  {
   "cell_type": "markdown",
   "id": "504502cf",
   "metadata": {},
   "source": [
    "The purpose of the pipeline is to assemble several steps that can be cross-validated together while setting different parameters."
   ]
  },
  {
   "cell_type": "code",
   "execution_count": 1,
   "id": "c373647b",
   "metadata": {},
   "outputs": [],
   "source": [
    "from sklearn.model_selection import GridSearchCV\n",
    "from sklearn.linear_model import LogisticRegression\n",
    "from sklearn.naive_bayes import MultinomialNB\n",
    "from sklearn.svm import SVC\n",
    "from sklearn.tree import DecisionTreeClassifier"
   ]
  },
  {
   "cell_type": "code",
   "execution_count": 2,
   "id": "6bbd0b4b",
   "metadata": {},
   "outputs": [],
   "source": [
    "import pandas as pd\n",
    "from sklearn.pipeline import Pipeline\n",
    "from sklearn.pipeline import Parallel"
   ]
  },
  {
   "cell_type": "code",
   "execution_count": 3,
   "id": "765f598d",
   "metadata": {},
   "outputs": [],
   "source": [
    "Pipeline?"
   ]
  },
  {
   "cell_type": "code",
   "execution_count": null,
   "id": "eec9da25",
   "metadata": {},
   "outputs": [],
   "source": []
  }
 ],
 "metadata": {
  "kernelspec": {
   "display_name": "Python 3 (ipykernel)",
   "language": "python",
   "name": "python3"
  },
  "language_info": {
   "codemirror_mode": {
    "name": "ipython",
    "version": 3
   },
   "file_extension": ".py",
   "mimetype": "text/x-python",
   "name": "python",
   "nbconvert_exporter": "python",
   "pygments_lexer": "ipython3",
   "version": "3.10.4"
  }
 },
 "nbformat": 4,
 "nbformat_minor": 5
}
