{
 "cells": [
  {
   "cell_type": "markdown",
   "metadata": {},
   "source": [
    "## Regularization\n",
    "\n",
    "### L2 and L1 regularization\n",
    "\n",
    "Regularization is a technique that is used to avoid overfitting of the data, by adding complexity to the weights.\n",
    "\n",
    "In other words, instead of simply aiming to minimize loss (empirical risk minimization):\n",
    "```\n",
    "minimize(loss_function)\n",
    "```\n",
    "we'll now minimize loss+complexity, which is called structural risk minimization:\n",
    "\n",
    "```\n",
    "minimize(loss_function)+complexity(model)\n",
    "```\n",
    "\n",
    "Our training optimization algorithm is now a function of two terms: the loss term, which measures how well the model fits the data, and the regularization term, which measures model complexity.\n"
   ]
  },
  {
   "cell_type": "code",
   "execution_count": 1,
   "metadata": {},
   "outputs": [],
   "source": [
    "import pandas as pd\n",
    "\n",
    "from sklearn.preprocessing import MinMaxScaler\n",
    "from sklearn.preprocessing import LabelEncoder\n",
    "from sklearn.model_selection import train_test_split\n",
    "\n",
    "from sklearn.linear_model import LinearRegression\n",
    "from sklearn.linear_model import Lasso,Ridge\n",
    "\n",
    "from sklearn.metrics import mean_absolute_error,mean_squared_error\n",
    "\n",
    "import warnings\n",
    "warnings.filterwarnings(\"ignore\")"
   ]
  },
  {
   "cell_type": "code",
   "execution_count": 90,
   "metadata": {},
   "outputs": [],
   "source": [
    "sb.set_style(\"darkgrid\")\n",
    "plt.rcParams['font.size'] = 16\n",
    "plt.rcParams['figure.figsize']=(14,7)\n",
    "plt.rcParams['figure.facecolor'] = '#FFF'"
   ]
  },
  {
   "cell_type": "code",
   "execution_count": 4,
   "metadata": {},
   "outputs": [],
   "source": [
    "data = pd.read_csv(\"../Day11: Linear Regression/car_prediction.csv\")"
   ]
  },
  {
   "cell_type": "code",
   "execution_count": 2,
   "metadata": {},
   "outputs": [],
   "source": [
    "numerical = list()\n",
    "category = list()\n",
    "\n",
    "minmax = MinMaxScaler()\n",
    "lblenc = LabelEncoder()"
   ]
  },
  {
   "cell_type": "markdown",
   "metadata": {},
   "source": [
    "### Feature Selection"
   ]
  },
  {
   "cell_type": "code",
   "execution_count": 5,
   "metadata": {},
   "outputs": [],
   "source": [
    "features = ['CarName','horsepower','enginesize','peakrpm','highwaympg','doornumber','carlength']"
   ]
  },
  {
   "cell_type": "code",
   "execution_count": 6,
   "metadata": {},
   "outputs": [],
   "source": [
    "X = data[features]\n",
    "Y = data.price"
   ]
  },
  {
   "cell_type": "code",
   "execution_count": 7,
   "metadata": {},
   "outputs": [],
   "source": [
    "for col in X:\n",
    "    if X[col].dtype == \"O\":\n",
    "        category.append(col)\n",
    "    else:\n",
    "        numerical.append(col)"
   ]
  },
  {
   "cell_type": "code",
   "execution_count": 8,
   "metadata": {},
   "outputs": [
    {
     "data": {
      "text/plain": [
       "['horsepower', 'enginesize', 'peakrpm', 'highwaympg', 'carlength']"
      ]
     },
     "execution_count": 8,
     "metadata": {},
     "output_type": "execute_result"
    }
   ],
   "source": [
    "numerical"
   ]
  },
  {
   "cell_type": "code",
   "execution_count": 9,
   "metadata": {},
   "outputs": [],
   "source": [
    "X[numerical] = minmax.fit_transform(X[numerical])"
   ]
  },
  {
   "cell_type": "code",
   "execution_count": 10,
   "metadata": {},
   "outputs": [],
   "source": [
    "for cat_col in category:\n",
    "    X[cat_col] = lblenc.fit_transform(X[cat_col])"
   ]
  },
  {
   "cell_type": "code",
   "execution_count": 11,
   "metadata": {},
   "outputs": [
    {
     "data": {
      "text/html": [
       "<div>\n",
       "<style scoped>\n",
       "    .dataframe tbody tr th:only-of-type {\n",
       "        vertical-align: middle;\n",
       "    }\n",
       "\n",
       "    .dataframe tbody tr th {\n",
       "        vertical-align: top;\n",
       "    }\n",
       "\n",
       "    .dataframe thead th {\n",
       "        text-align: right;\n",
       "    }\n",
       "</style>\n",
       "<table border=\"1\" class=\"dataframe\">\n",
       "  <thead>\n",
       "    <tr style=\"text-align: right;\">\n",
       "      <th></th>\n",
       "      <th>CarName</th>\n",
       "      <th>horsepower</th>\n",
       "      <th>enginesize</th>\n",
       "      <th>peakrpm</th>\n",
       "      <th>highwaympg</th>\n",
       "      <th>doornumber</th>\n",
       "      <th>carlength</th>\n",
       "    </tr>\n",
       "  </thead>\n",
       "  <tbody>\n",
       "    <tr>\n",
       "      <th>0</th>\n",
       "      <td>2</td>\n",
       "      <td>0.262500</td>\n",
       "      <td>0.260377</td>\n",
       "      <td>0.346939</td>\n",
       "      <td>0.289474</td>\n",
       "      <td>1</td>\n",
       "      <td>0.413433</td>\n",
       "    </tr>\n",
       "    <tr>\n",
       "      <th>1</th>\n",
       "      <td>3</td>\n",
       "      <td>0.262500</td>\n",
       "      <td>0.260377</td>\n",
       "      <td>0.346939</td>\n",
       "      <td>0.289474</td>\n",
       "      <td>1</td>\n",
       "      <td>0.413433</td>\n",
       "    </tr>\n",
       "    <tr>\n",
       "      <th>2</th>\n",
       "      <td>1</td>\n",
       "      <td>0.441667</td>\n",
       "      <td>0.343396</td>\n",
       "      <td>0.346939</td>\n",
       "      <td>0.263158</td>\n",
       "      <td>1</td>\n",
       "      <td>0.449254</td>\n",
       "    </tr>\n",
       "    <tr>\n",
       "      <th>3</th>\n",
       "      <td>4</td>\n",
       "      <td>0.225000</td>\n",
       "      <td>0.181132</td>\n",
       "      <td>0.551020</td>\n",
       "      <td>0.368421</td>\n",
       "      <td>0</td>\n",
       "      <td>0.529851</td>\n",
       "    </tr>\n",
       "    <tr>\n",
       "      <th>4</th>\n",
       "      <td>5</td>\n",
       "      <td>0.279167</td>\n",
       "      <td>0.283019</td>\n",
       "      <td>0.551020</td>\n",
       "      <td>0.157895</td>\n",
       "      <td>0</td>\n",
       "      <td>0.529851</td>\n",
       "    </tr>\n",
       "    <tr>\n",
       "      <th>...</th>\n",
       "      <td>...</td>\n",
       "      <td>...</td>\n",
       "      <td>...</td>\n",
       "      <td>...</td>\n",
       "      <td>...</td>\n",
       "      <td>...</td>\n",
       "      <td>...</td>\n",
       "    </tr>\n",
       "    <tr>\n",
       "      <th>200</th>\n",
       "      <td>139</td>\n",
       "      <td>0.275000</td>\n",
       "      <td>0.301887</td>\n",
       "      <td>0.510204</td>\n",
       "      <td>0.315789</td>\n",
       "      <td>0</td>\n",
       "      <td>0.711940</td>\n",
       "    </tr>\n",
       "    <tr>\n",
       "      <th>201</th>\n",
       "      <td>138</td>\n",
       "      <td>0.466667</td>\n",
       "      <td>0.301887</td>\n",
       "      <td>0.469388</td>\n",
       "      <td>0.236842</td>\n",
       "      <td>0</td>\n",
       "      <td>0.711940</td>\n",
       "    </tr>\n",
       "    <tr>\n",
       "      <th>202</th>\n",
       "      <td>140</td>\n",
       "      <td>0.358333</td>\n",
       "      <td>0.422642</td>\n",
       "      <td>0.551020</td>\n",
       "      <td>0.184211</td>\n",
       "      <td>0</td>\n",
       "      <td>0.711940</td>\n",
       "    </tr>\n",
       "    <tr>\n",
       "      <th>203</th>\n",
       "      <td>142</td>\n",
       "      <td>0.241667</td>\n",
       "      <td>0.316981</td>\n",
       "      <td>0.265306</td>\n",
       "      <td>0.289474</td>\n",
       "      <td>0</td>\n",
       "      <td>0.711940</td>\n",
       "    </tr>\n",
       "    <tr>\n",
       "      <th>204</th>\n",
       "      <td>143</td>\n",
       "      <td>0.275000</td>\n",
       "      <td>0.301887</td>\n",
       "      <td>0.510204</td>\n",
       "      <td>0.236842</td>\n",
       "      <td>0</td>\n",
       "      <td>0.711940</td>\n",
       "    </tr>\n",
       "  </tbody>\n",
       "</table>\n",
       "<p>205 rows × 7 columns</p>\n",
       "</div>"
      ],
      "text/plain": [
       "     CarName  horsepower  enginesize   peakrpm  highwaympg  doornumber  \\\n",
       "0          2    0.262500    0.260377  0.346939    0.289474           1   \n",
       "1          3    0.262500    0.260377  0.346939    0.289474           1   \n",
       "2          1    0.441667    0.343396  0.346939    0.263158           1   \n",
       "3          4    0.225000    0.181132  0.551020    0.368421           0   \n",
       "4          5    0.279167    0.283019  0.551020    0.157895           0   \n",
       "..       ...         ...         ...       ...         ...         ...   \n",
       "200      139    0.275000    0.301887  0.510204    0.315789           0   \n",
       "201      138    0.466667    0.301887  0.469388    0.236842           0   \n",
       "202      140    0.358333    0.422642  0.551020    0.184211           0   \n",
       "203      142    0.241667    0.316981  0.265306    0.289474           0   \n",
       "204      143    0.275000    0.301887  0.510204    0.236842           0   \n",
       "\n",
       "     carlength  \n",
       "0     0.413433  \n",
       "1     0.413433  \n",
       "2     0.449254  \n",
       "3     0.529851  \n",
       "4     0.529851  \n",
       "..         ...  \n",
       "200   0.711940  \n",
       "201   0.711940  \n",
       "202   0.711940  \n",
       "203   0.711940  \n",
       "204   0.711940  \n",
       "\n",
       "[205 rows x 7 columns]"
      ]
     },
     "execution_count": 11,
     "metadata": {},
     "output_type": "execute_result"
    }
   ],
   "source": [
    "X"
   ]
  },
  {
   "cell_type": "code",
   "execution_count": 12,
   "metadata": {},
   "outputs": [
    {
     "data": {
      "text/plain": [
       "0      13495.0\n",
       "1      16500.0\n",
       "2      16500.0\n",
       "3      13950.0\n",
       "4      17450.0\n",
       "        ...   \n",
       "200    16845.0\n",
       "201    19045.0\n",
       "202    21485.0\n",
       "203    22470.0\n",
       "204    22625.0\n",
       "Name: price, Length: 205, dtype: float64"
      ]
     },
     "execution_count": 12,
     "metadata": {},
     "output_type": "execute_result"
    }
   ],
   "source": [
    "Y"
   ]
  },
  {
   "cell_type": "code",
   "execution_count": 13,
   "metadata": {},
   "outputs": [],
   "source": [
    "x_train,x_test,y_train,y_test = train_test_split(X,Y,test_size=0.23)"
   ]
  },
  {
   "cell_type": "code",
   "execution_count": 14,
   "metadata": {},
   "outputs": [
    {
     "data": {
      "text/plain": [
       "(157, 7)"
      ]
     },
     "execution_count": 14,
     "metadata": {},
     "output_type": "execute_result"
    }
   ],
   "source": [
    "x_train.shape"
   ]
  },
  {
   "cell_type": "code",
   "execution_count": 15,
   "metadata": {},
   "outputs": [
    {
     "data": {
      "text/plain": [
       "(48, 7)"
      ]
     },
     "execution_count": 15,
     "metadata": {},
     "output_type": "execute_result"
    }
   ],
   "source": [
    "x_test.shape"
   ]
  },
  {
   "cell_type": "code",
   "execution_count": 16,
   "metadata": {},
   "outputs": [
    {
     "data": {
      "text/plain": [
       "(157,)"
      ]
     },
     "execution_count": 16,
     "metadata": {},
     "output_type": "execute_result"
    }
   ],
   "source": [
    "y_train.shape"
   ]
  },
  {
   "cell_type": "code",
   "execution_count": 17,
   "metadata": {},
   "outputs": [
    {
     "data": {
      "text/plain": [
       "LinearRegression()"
      ]
     },
     "execution_count": 17,
     "metadata": {},
     "output_type": "execute_result"
    }
   ],
   "source": [
    "model = LinearRegression()\n",
    "model.fit(x_train,y_train)"
   ]
  },
  {
   "cell_type": "code",
   "execution_count": 18,
   "metadata": {},
   "outputs": [],
   "source": [
    "car_predict = model.predict(x_test)"
   ]
  },
  {
   "cell_type": "code",
   "execution_count": 19,
   "metadata": {},
   "outputs": [
    {
     "data": {
      "text/plain": [
       "82.96707034877515"
      ]
     },
     "execution_count": 19,
     "metadata": {},
     "output_type": "execute_result"
    }
   ],
   "source": [
    "model.score(x_train,y_train) * 100"
   ]
  },
  {
   "cell_type": "code",
   "execution_count": 20,
   "metadata": {},
   "outputs": [
    {
     "data": {
      "text/plain": [
       "81.64961154863953"
      ]
     },
     "execution_count": 20,
     "metadata": {},
     "output_type": "execute_result"
    }
   ],
   "source": [
    "model.score(x_test,y_test) *100"
   ]
  },
  {
   "cell_type": "code",
   "execution_count": 123,
   "metadata": {},
   "outputs": [],
   "source": [
    "abs_error = mean_absolute_error(y_test,car_predict)"
   ]
  },
  {
   "cell_type": "code",
   "execution_count": 124,
   "metadata": {},
   "outputs": [
    {
     "data": {
      "text/plain": [
       "2927.127837373467"
      ]
     },
     "execution_count": 124,
     "metadata": {},
     "output_type": "execute_result"
    }
   ],
   "source": [
    "abs_error"
   ]
  },
  {
   "cell_type": "code",
   "execution_count": 21,
   "metadata": {},
   "outputs": [],
   "source": [
    "mse = mean_squared_error(y_test,car_predict,squared=False)"
   ]
  },
  {
   "cell_type": "code",
   "execution_count": 22,
   "metadata": {},
   "outputs": [
    {
     "data": {
      "text/plain": [
       "3518.0537865543874"
      ]
     },
     "execution_count": 22,
     "metadata": {},
     "output_type": "execute_result"
    }
   ],
   "source": [
    "mse"
   ]
  },
  {
   "cell_type": "code",
   "execution_count": 39,
   "metadata": {},
   "outputs": [
    {
     "data": {
      "text/html": [
       "<div>\n",
       "<style scoped>\n",
       "    .dataframe tbody tr th:only-of-type {\n",
       "        vertical-align: middle;\n",
       "    }\n",
       "\n",
       "    .dataframe tbody tr th {\n",
       "        vertical-align: top;\n",
       "    }\n",
       "\n",
       "    .dataframe thead th {\n",
       "        text-align: right;\n",
       "    }\n",
       "</style>\n",
       "<table border=\"1\" class=\"dataframe\">\n",
       "  <thead>\n",
       "    <tr style=\"text-align: right;\">\n",
       "      <th></th>\n",
       "      <th>CarName</th>\n",
       "      <th>horsepower</th>\n",
       "      <th>enginesize</th>\n",
       "      <th>peakrpm</th>\n",
       "      <th>highwaympg</th>\n",
       "      <th>doornumber</th>\n",
       "      <th>carlength</th>\n",
       "    </tr>\n",
       "  </thead>\n",
       "  <tbody>\n",
       "    <tr>\n",
       "      <th>51</th>\n",
       "      <td>51</td>\n",
       "      <td>0.083333</td>\n",
       "      <td>0.113208</td>\n",
       "      <td>0.346939</td>\n",
       "      <td>0.578947</td>\n",
       "      <td>1</td>\n",
       "      <td>0.268657</td>\n",
       "    </tr>\n",
       "    <tr>\n",
       "      <th>195</th>\n",
       "      <td>138</td>\n",
       "      <td>0.275000</td>\n",
       "      <td>0.301887</td>\n",
       "      <td>0.510204</td>\n",
       "      <td>0.315789</td>\n",
       "      <td>0</td>\n",
       "      <td>0.711940</td>\n",
       "    </tr>\n",
       "    <tr>\n",
       "      <th>20</th>\n",
       "      <td>26</td>\n",
       "      <td>0.091667</td>\n",
       "      <td>0.109434</td>\n",
       "      <td>0.510204</td>\n",
       "      <td>0.710526</td>\n",
       "      <td>0</td>\n",
       "      <td>0.264179</td>\n",
       "    </tr>\n",
       "    <tr>\n",
       "      <th>52</th>\n",
       "      <td>61</td>\n",
       "      <td>0.083333</td>\n",
       "      <td>0.113208</td>\n",
       "      <td>0.346939</td>\n",
       "      <td>0.578947</td>\n",
       "      <td>1</td>\n",
       "      <td>0.268657</td>\n",
       "    </tr>\n",
       "    <tr>\n",
       "      <th>119</th>\n",
       "      <td>89</td>\n",
       "      <td>0.225000</td>\n",
       "      <td>0.139623</td>\n",
       "      <td>0.551020</td>\n",
       "      <td>0.368421</td>\n",
       "      <td>1</td>\n",
       "      <td>0.241791</td>\n",
       "    </tr>\n",
       "    <tr>\n",
       "      <th>173</th>\n",
       "      <td>115</td>\n",
       "      <td>0.183333</td>\n",
       "      <td>0.230189</td>\n",
       "      <td>0.020408</td>\n",
       "      <td>0.473684</td>\n",
       "      <td>0</td>\n",
       "      <td>0.514925</td>\n",
       "    </tr>\n",
       "    <tr>\n",
       "      <th>13</th>\n",
       "      <td>12</td>\n",
       "      <td>0.304167</td>\n",
       "      <td>0.388679</td>\n",
       "      <td>0.040816</td>\n",
       "      <td>0.315789</td>\n",
       "      <td>0</td>\n",
       "      <td>0.532836</td>\n",
       "    </tr>\n",
       "    <tr>\n",
       "      <th>115</th>\n",
       "      <td>85</td>\n",
       "      <td>0.204167</td>\n",
       "      <td>0.222642</td>\n",
       "      <td>0.346939</td>\n",
       "      <td>0.210526</td>\n",
       "      <td>0</td>\n",
       "      <td>0.680597</td>\n",
       "    </tr>\n",
       "    <tr>\n",
       "      <th>102</th>\n",
       "      <td>72</td>\n",
       "      <td>0.433333</td>\n",
       "      <td>0.452830</td>\n",
       "      <td>0.428571</td>\n",
       "      <td>0.157895</td>\n",
       "      <td>0</td>\n",
       "      <td>0.649254</td>\n",
       "    </tr>\n",
       "    <tr>\n",
       "      <th>179</th>\n",
       "      <td>120</td>\n",
       "      <td>0.470833</td>\n",
       "      <td>0.415094</td>\n",
       "      <td>0.428571</td>\n",
       "      <td>0.210526</td>\n",
       "      <td>1</td>\n",
       "      <td>0.632836</td>\n",
       "    </tr>\n",
       "  </tbody>\n",
       "</table>\n",
       "</div>"
      ],
      "text/plain": [
       "     CarName  horsepower  enginesize   peakrpm  highwaympg  doornumber  \\\n",
       "51        51    0.083333    0.113208  0.346939    0.578947           1   \n",
       "195      138    0.275000    0.301887  0.510204    0.315789           0   \n",
       "20        26    0.091667    0.109434  0.510204    0.710526           0   \n",
       "52        61    0.083333    0.113208  0.346939    0.578947           1   \n",
       "119       89    0.225000    0.139623  0.551020    0.368421           1   \n",
       "173      115    0.183333    0.230189  0.020408    0.473684           0   \n",
       "13        12    0.304167    0.388679  0.040816    0.315789           0   \n",
       "115       85    0.204167    0.222642  0.346939    0.210526           0   \n",
       "102       72    0.433333    0.452830  0.428571    0.157895           0   \n",
       "179      120    0.470833    0.415094  0.428571    0.210526           1   \n",
       "\n",
       "     carlength  \n",
       "51    0.268657  \n",
       "195   0.711940  \n",
       "20    0.264179  \n",
       "52    0.268657  \n",
       "119   0.241791  \n",
       "173   0.514925  \n",
       "13    0.532836  \n",
       "115   0.680597  \n",
       "102   0.649254  \n",
       "179   0.632836  "
      ]
     },
     "execution_count": 39,
     "metadata": {},
     "output_type": "execute_result"
    }
   ],
   "source": [
    "x_test[:10]"
   ]
  },
  {
   "cell_type": "markdown",
   "metadata": {},
   "source": [
    "### Ridge Regularization (L2)\n",
    "\n",
    "penalizes the size (square of the magnitude) of the regression coefficients"
   ]
  },
  {
   "cell_type": "code",
   "execution_count": 42,
   "metadata": {},
   "outputs": [
    {
     "data": {
      "text/plain": [
       "Ridge(alpha=0.01)"
      ]
     },
     "execution_count": 42,
     "metadata": {},
     "output_type": "execute_result"
    }
   ],
   "source": [
    "ridge_model = Ridge(alpha = 0.01)\n",
    "ridge_model.fit(x_train, y_train)"
   ]
  },
  {
   "cell_type": "code",
   "execution_count": 43,
   "metadata": {},
   "outputs": [
    {
     "data": {
      "text/plain": [
       "0.8296667110295941"
      ]
     },
     "execution_count": 43,
     "metadata": {},
     "output_type": "execute_result"
    }
   ],
   "source": [
    "ridge_model.score(x_train,y_train)"
   ]
  },
  {
   "cell_type": "code",
   "execution_count": 50,
   "metadata": {},
   "outputs": [
    {
     "data": {
      "text/plain": [
       "0.816393095256166"
      ]
     },
     "execution_count": 50,
     "metadata": {},
     "output_type": "execute_result"
    }
   ],
   "source": [
    "ridge_model.score(x_test,y_test)"
   ]
  },
  {
   "cell_type": "markdown",
   "metadata": {},
   "source": [
    "### Lasso Regularization (L1)\n",
    "\n",
    "Lasso Regression (Least Absolute Shrinkage and Selection Operator) adds “Absolute value of magnitude” of coefficient, as penalty term to the loss function."
   ]
  },
  {
   "cell_type": "code",
   "execution_count": 52,
   "metadata": {},
   "outputs": [],
   "source": [
    "lasso_model = Lasso(alpha = 0.02, tol = 0.01)"
   ]
  },
  {
   "cell_type": "code",
   "execution_count": 53,
   "metadata": {},
   "outputs": [
    {
     "data": {
      "text/plain": [
       "Lasso(alpha=0.02, tol=0.01)"
      ]
     },
     "execution_count": 53,
     "metadata": {},
     "output_type": "execute_result"
    }
   ],
   "source": [
    "lasso_model.fit(x_train, y_train)"
   ]
  },
  {
   "cell_type": "code",
   "execution_count": 54,
   "metadata": {},
   "outputs": [
    {
     "data": {
      "text/plain": [
       "0.8296706997984666"
      ]
     },
     "execution_count": 54,
     "metadata": {},
     "output_type": "execute_result"
    }
   ],
   "source": [
    "lasso_model.score(x_train,y_train) "
   ]
  },
  {
   "cell_type": "code",
   "execution_count": 55,
   "metadata": {},
   "outputs": [
    {
     "data": {
      "text/plain": [
       "0.8164959057397018"
      ]
     },
     "execution_count": 55,
     "metadata": {},
     "output_type": "execute_result"
    }
   ],
   "source": [
    "lasso_model.score(x_test,y_test)"
   ]
  },
  {
   "cell_type": "code",
   "execution_count": null,
   "metadata": {},
   "outputs": [],
   "source": []
  },
  {
   "cell_type": "markdown",
   "metadata": {},
   "source": [
    "### Reference:\n",
    "    \n",
    "[Machine Learning Crash Course](https://developers.google.com/machine-learning/crash-course/regularization-for-simplicity/l2-regularization)\n",
    "\n",
    "[Towards Data Science](https://towardsdatascience.com/ridge-and-lasso-regression-a-complete-guide-with-python-scikit-learn-e20e34bcbf0b)"
   ]
  },
  {
   "cell_type": "code",
   "execution_count": null,
   "metadata": {},
   "outputs": [],
   "source": []
  }
 ],
 "metadata": {
  "kernelspec": {
   "display_name": "Python 3.9.2 64-bit",
   "language": "python",
   "name": "python392jvsc74a57bd0767d51c1340bd893661ea55ea3124f6de3c7a262a8b4abca0554b478b1e2ff90"
  },
  "language_info": {
   "codemirror_mode": {
    "name": "ipython",
    "version": 3
   },
   "file_extension": ".py",
   "mimetype": "text/x-python",
   "name": "python",
   "nbconvert_exporter": "python",
   "pygments_lexer": "ipython3",
   "version": "3.9.2"
  }
 },
 "nbformat": 4,
 "nbformat_minor": 4
}
