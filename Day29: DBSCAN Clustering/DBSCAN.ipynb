{
 "cells": [
  {
   "cell_type": "markdown",
   "id": "8432dd13",
   "metadata": {},
   "source": [
    "## DBSCAN Density-based spatial clustering of applications with noise"
   ]
  },
  {
   "cell_type": "markdown",
   "id": "03282db8",
   "metadata": {},
   "source": [
    "Article on DBSCAN will be released on Anime Vyuh-Eksauek Machine Learning series"
   ]
  },
  {
   "cell_type": "markdown",
   "id": "a9847cbe",
   "metadata": {},
   "source": [
    "Clustering is a part of Unsupervised Learning and the models learns the pattern to predict the label. In case of KMeans and Hierarchical clustering algorithms, it may be possible that one of the label is accidently created because of Noise or Outliers. \n",
    "\n",
    "K-Means and Hierarchical Clustering both fail in creating clusters of arbitrary shapes. They are not able to form clusters based on varying densities. Here is where we need DBSCAN clustering.\n",
    "\n",
    "Two important arguments\"\n",
    "- `eps`: Epsilon is the radius of the circle to be created around each data point to check the density\n",
    "- `min_samples`: minPoints is the minimum number of data points required inside that circle for that data point to be classified as a Core point.\n",
    "\n",
    "For more information check out blog post: [DBSCAN Clustering] [soon...]"
   ]
  },
  {
   "cell_type": "markdown",
   "id": "4b009747",
   "metadata": {},
   "source": [
    "#### Import the libraies"
   ]
  },
  {
   "cell_type": "code",
   "execution_count": 32,
   "id": "7a237057",
   "metadata": {},
   "outputs": [],
   "source": [
    "import numpy as np\n",
    "import pandas as pd\n",
    "import matplotlib.pyplot as plt\n",
    "from sklearn.cluster import DBSCAN\n",
    "from sklearn.metrics import silhouette_score,adjusted_rand_score\n",
    "from sklearn.preprocessing import StandardScaler\n",
    "from sklearn.datasets import make_blobs"
   ]
  },
  {
   "cell_type": "code",
   "execution_count": 34,
   "id": "384c289f",
   "metadata": {},
   "outputs": [],
   "source": [
    "X, y = make_blobs(n_samples=5000)\n",
    "df=pd.DataFrame(X,y)"
   ]
  },
  {
   "cell_type": "code",
   "execution_count": 35,
   "id": "0b3d19a0",
   "metadata": {},
   "outputs": [
    {
     "data": {
      "text/html": [
       "<div>\n",
       "<style scoped>\n",
       "    .dataframe tbody tr th:only-of-type {\n",
       "        vertical-align: middle;\n",
       "    }\n",
       "\n",
       "    .dataframe tbody tr th {\n",
       "        vertical-align: top;\n",
       "    }\n",
       "\n",
       "    .dataframe thead th {\n",
       "        text-align: right;\n",
       "    }\n",
       "</style>\n",
       "<table border=\"1\" class=\"dataframe\">\n",
       "  <thead>\n",
       "    <tr style=\"text-align: right;\">\n",
       "      <th></th>\n",
       "      <th>0</th>\n",
       "      <th>1</th>\n",
       "    </tr>\n",
       "  </thead>\n",
       "  <tbody>\n",
       "    <tr>\n",
       "      <th>1</th>\n",
       "      <td>-7.107301</td>\n",
       "      <td>-10.043961</td>\n",
       "    </tr>\n",
       "    <tr>\n",
       "      <th>0</th>\n",
       "      <td>5.567055</td>\n",
       "      <td>-5.218811</td>\n",
       "    </tr>\n",
       "    <tr>\n",
       "      <th>1</th>\n",
       "      <td>-7.497182</td>\n",
       "      <td>-8.088500</td>\n",
       "    </tr>\n",
       "    <tr>\n",
       "      <th>2</th>\n",
       "      <td>7.011841</td>\n",
       "      <td>8.454310</td>\n",
       "    </tr>\n",
       "    <tr>\n",
       "      <th>1</th>\n",
       "      <td>-6.126997</td>\n",
       "      <td>-9.325595</td>\n",
       "    </tr>\n",
       "    <tr>\n",
       "      <th>...</th>\n",
       "      <td>...</td>\n",
       "      <td>...</td>\n",
       "    </tr>\n",
       "    <tr>\n",
       "      <th>1</th>\n",
       "      <td>-7.380669</td>\n",
       "      <td>-7.872227</td>\n",
       "    </tr>\n",
       "    <tr>\n",
       "      <th>0</th>\n",
       "      <td>4.724233</td>\n",
       "      <td>-3.983411</td>\n",
       "    </tr>\n",
       "    <tr>\n",
       "      <th>1</th>\n",
       "      <td>-7.860214</td>\n",
       "      <td>-7.543599</td>\n",
       "    </tr>\n",
       "    <tr>\n",
       "      <th>1</th>\n",
       "      <td>-7.493957</td>\n",
       "      <td>-8.524742</td>\n",
       "    </tr>\n",
       "    <tr>\n",
       "      <th>1</th>\n",
       "      <td>-7.444257</td>\n",
       "      <td>-7.615482</td>\n",
       "    </tr>\n",
       "  </tbody>\n",
       "</table>\n",
       "<p>5000 rows × 2 columns</p>\n",
       "</div>"
      ],
      "text/plain": [
       "           0          1\n",
       "1  -7.107301 -10.043961\n",
       "0   5.567055  -5.218811\n",
       "1  -7.497182  -8.088500\n",
       "2   7.011841   8.454310\n",
       "1  -6.126997  -9.325595\n",
       "..       ...        ...\n",
       "1  -7.380669  -7.872227\n",
       "0   4.724233  -3.983411\n",
       "1  -7.860214  -7.543599\n",
       "1  -7.493957  -8.524742\n",
       "1  -7.444257  -7.615482\n",
       "\n",
       "[5000 rows x 2 columns]"
      ]
     },
     "execution_count": 35,
     "metadata": {},
     "output_type": "execute_result"
    }
   ],
   "source": [
    "df"
   ]
  },
  {
   "cell_type": "code",
   "execution_count": 36,
   "id": "2bd7fd0e",
   "metadata": {},
   "outputs": [
    {
     "data": {
      "text/html": [
       "<div>\n",
       "<style scoped>\n",
       "    .dataframe tbody tr th:only-of-type {\n",
       "        vertical-align: middle;\n",
       "    }\n",
       "\n",
       "    .dataframe tbody tr th {\n",
       "        vertical-align: top;\n",
       "    }\n",
       "\n",
       "    .dataframe thead th {\n",
       "        text-align: right;\n",
       "    }\n",
       "</style>\n",
       "<table border=\"1\" class=\"dataframe\">\n",
       "  <thead>\n",
       "    <tr style=\"text-align: right;\">\n",
       "      <th></th>\n",
       "      <th>feat1</th>\n",
       "      <th>feat2</th>\n",
       "    </tr>\n",
       "  </thead>\n",
       "  <tbody>\n",
       "    <tr>\n",
       "      <th>1</th>\n",
       "      <td>-7.107301</td>\n",
       "      <td>-10.043961</td>\n",
       "    </tr>\n",
       "    <tr>\n",
       "      <th>0</th>\n",
       "      <td>5.567055</td>\n",
       "      <td>-5.218811</td>\n",
       "    </tr>\n",
       "    <tr>\n",
       "      <th>1</th>\n",
       "      <td>-7.497182</td>\n",
       "      <td>-8.088500</td>\n",
       "    </tr>\n",
       "    <tr>\n",
       "      <th>2</th>\n",
       "      <td>7.011841</td>\n",
       "      <td>8.454310</td>\n",
       "    </tr>\n",
       "    <tr>\n",
       "      <th>1</th>\n",
       "      <td>-6.126997</td>\n",
       "      <td>-9.325595</td>\n",
       "    </tr>\n",
       "    <tr>\n",
       "      <th>0</th>\n",
       "      <td>5.367431</td>\n",
       "      <td>-5.512840</td>\n",
       "    </tr>\n",
       "    <tr>\n",
       "      <th>2</th>\n",
       "      <td>5.768589</td>\n",
       "      <td>8.110907</td>\n",
       "    </tr>\n",
       "    <tr>\n",
       "      <th>2</th>\n",
       "      <td>5.818473</td>\n",
       "      <td>7.703965</td>\n",
       "    </tr>\n",
       "    <tr>\n",
       "      <th>0</th>\n",
       "      <td>3.780553</td>\n",
       "      <td>-5.271861</td>\n",
       "    </tr>\n",
       "    <tr>\n",
       "      <th>1</th>\n",
       "      <td>-4.815159</td>\n",
       "      <td>-10.328013</td>\n",
       "    </tr>\n",
       "  </tbody>\n",
       "</table>\n",
       "</div>"
      ],
      "text/plain": [
       "      feat1      feat2\n",
       "1 -7.107301 -10.043961\n",
       "0  5.567055  -5.218811\n",
       "1 -7.497182  -8.088500\n",
       "2  7.011841   8.454310\n",
       "1 -6.126997  -9.325595\n",
       "0  5.367431  -5.512840\n",
       "2  5.768589   8.110907\n",
       "2  5.818473   7.703965\n",
       "0  3.780553  -5.271861\n",
       "1 -4.815159 -10.328013"
      ]
     },
     "execution_count": 36,
     "metadata": {},
     "output_type": "execute_result"
    }
   ],
   "source": [
    "df=df.rename(columns={0: \"feat1\", 1:\"feat2\"})\n",
    "df.head(10)"
   ]
  },
  {
   "cell_type": "code",
   "execution_count": 37,
   "id": "010027da",
   "metadata": {},
   "outputs": [
    {
     "data": {
      "text/plain": [
       "(5000, 2)"
      ]
     },
     "execution_count": 37,
     "metadata": {},
     "output_type": "execute_result"
    }
   ],
   "source": [
    "X.shape"
   ]
  },
  {
   "cell_type": "code",
   "execution_count": 38,
   "id": "1dbafdee",
   "metadata": {},
   "outputs": [
    {
     "data": {
      "text/plain": [
       "(5000,)"
      ]
     },
     "execution_count": 38,
     "metadata": {},
     "output_type": "execute_result"
    }
   ],
   "source": [
    "y.shape"
   ]
  },
  {
   "cell_type": "code",
   "execution_count": 39,
   "id": "20734923",
   "metadata": {},
   "outputs": [
    {
     "data": {
      "text/plain": [
       "{0, 1, 2}"
      ]
     },
     "execution_count": 39,
     "metadata": {},
     "output_type": "execute_result"
    }
   ],
   "source": [
    "set(y)"
   ]
  },
  {
   "cell_type": "code",
   "execution_count": 40,
   "id": "d5d6c651",
   "metadata": {},
   "outputs": [
    {
     "data": {
      "text/plain": [
       "Text(0, 0.5, 'Feature2')"
      ]
     },
     "execution_count": 40,
     "metadata": {},
     "output_type": "execute_result"
    },
    {
     "data": {
      "image/png": "[encoded data removed]",
      "text/plain": [
       "<Figure size 432x288 with 1 Axes>"
      ]
     },
     "metadata": {
      "needs_background": "light"
     },
     "output_type": "display_data"
    }
   ],
   "source": [
    "plt.scatter(X[:, 0], X[:, 1],color=\"red\")\n",
    "plt.title(\"Feat1 vs Feat2\")\n",
    "plt.xlabel(\"Feature1\")\n",
    "plt.ylabel(\"Feature2\")"
   ]
  },
  {
   "cell_type": "code",
   "execution_count": 41,
   "id": "9a2e3eb1",
   "metadata": {},
   "outputs": [],
   "source": [
    "from sklearn.model_selection import train_test_split\n",
    "X_train,X_test,y_train,y_test = train_test_split(X,y,test_size=0.2)"
   ]
  },
  {
   "cell_type": "code",
   "execution_count": 42,
   "id": "7a12fe77",
   "metadata": {},
   "outputs": [],
   "source": [
    "model = DBSCAN(eps=0.8, min_samples=8, metric='euclidean').fit(X_train)"
   ]
  },
  {
   "cell_type": "markdown",
   "id": "443008c3",
   "metadata": {},
   "source": [
    "- Eps, ε - distance\n",
    "- MinPts – Minimum number of points within distance Eps"
   ]
  },
  {
   "cell_type": "code",
   "execution_count": 43,
   "id": "32fc26b3",
   "metadata": {},
   "outputs": [
    {
     "data": {
      "text/plain": [
       "Text(0, 0.5, 'Feature2')"
      ]
     },
     "execution_count": 43,
     "metadata": {},
     "output_type": "execute_result"
    },
    {
     "data": {
      "image/png": "[encoded data removed]",
      "text/plain": [
       "<Figure size 432x288 with 1 Axes>"
      ]
     },
     "metadata": {
      "needs_background": "light"
     },
     "output_type": "display_data"
    }
   ],
   "source": [
    "plt.scatter(X_train[:, 0], X_train[:, 1], c=model.labels_, label=y)\n",
    "plt.title(\"Feat1 vs Feat2\")\n",
    "plt.xlabel(\"Feature1\")\n",
    "plt.ylabel(\"Feature2\")"
   ]
  },
  {
   "cell_type": "code",
   "execution_count": 44,
   "id": "16f4a261",
   "metadata": {},
   "outputs": [
    {
     "name": "stdout",
     "output_type": "stream",
     "text": [
      "Estimated no. of clusters: 3\n",
      "Estimated no. of noise points: 7\n"
     ]
    }
   ],
   "source": [
    "labels= model.labels_\n",
    "\n",
    "no_of_clusters =len(set(labels))-(1 if -1 in labels else 0)\n",
    "print(\"Estimated no. of clusters:\",no_of_clusters)\n",
    "\n",
    "# Identify Noise\n",
    "noise = list(model.labels_).count(-1)\n",
    "print(\"Estimated no. of noise points:\",noise)"
   ]
  },
  {
   "cell_type": "markdown",
   "id": "9792e228",
   "metadata": {},
   "source": [
    "### Evaluation Metrics: Clustering Algorithms:"
   ]
  },
  {
   "cell_type": "markdown",
   "id": "2c550830",
   "metadata": {},
   "source": [
    "Silhouette score is in the range of -1 to 1. A score near 1 denotes the best meaning that the data point i is very compact within the cluster to which it belongs and far away from the other clusters. The worst value is -1. Values near 0 denote overlapping clusters.\n",
    "\n",
    "Absolute Rand Score is in the range of 0 to 1. More than 0.9 denotes excellent cluster recovery, above 0.8 is a good recovery. Less than 0.5 is considered to be poor recovery. "
   ]
  },
  {
   "cell_type": "code",
   "execution_count": 47,
   "id": "c86a0dae",
   "metadata": {},
   "outputs": [
    {
     "name": "stdout",
     "output_type": "stream",
     "text": [
      "Silhouette Score: 0.851930775085957\n",
      "Adjusted Rand Score: 0.9973644916294088\n"
     ]
    }
   ],
   "source": [
    "sc = silhouette_score(X_train,labels)\n",
    "print(\"Silhouette Score:\",sc)\n",
    "ars = adjusted_rand_score(y_train,labels)\n",
    "print(\"Adjusted Rand Score:\",ars)"
   ]
  },
  {
   "cell_type": "markdown",
   "id": "adba269e",
   "metadata": {},
   "source": [
    "### Applications Of Clustering\n",
    "\n",
    "- Recommendation Engine\n",
    "- Customer Segementation [Used in Amazon, Netflix, Spotify and so on..]\n",
    "- Image Segmentation\n",
    "- Market Segmentation"
   ]
  },
  {
   "cell_type": "markdown",
   "id": "5917ff3b",
   "metadata": {},
   "source": [
    "#### Reference:\n",
    "- [How DBSCAN Works?](https://www.analyticsvidhya.com/blog/2020/09/how-dbscan-clustering-works/)\n",
    "- [DBSCAN In Sklearn](https://www.analyticsvidhya.com/blog/2020/09/how-dbscan-clustering-works/)"
   ]
  },
  {
   "cell_type": "code",
   "execution_count": null,
   "id": "c8bd9598",
   "metadata": {},
   "outputs": [],
   "source": []
  }
 ],
 "metadata": {
  "kernelspec": {
   "display_name": "Python 3 (ipykernel)",
   "language": "python",
   "name": "python3"
  },
  "language_info": {
   "codemirror_mode": {
    "name": "ipython",
    "version": 3
   },
   "file_extension": ".py",
   "mimetype": "text/x-python",
   "name": "python",
   "nbconvert_exporter": "python",
   "pygments_lexer": "ipython3",
   "version": "3.10.4"
  }
 },
 "nbformat": 4,
 "nbformat_minor": 5
}
